{
 "cells": [
  {
   "cell_type": "code",
   "execution_count": 238,
   "metadata": {
    "collapsed": true
   },
   "outputs": [],
   "source": [
    "import matplotlib"
   ]
  },
  {
   "cell_type": "code",
   "execution_count": 239,
   "metadata": {
    "collapsed": true
   },
   "outputs": [],
   "source": [
    "import numpy as np"
   ]
  },
  {
   "cell_type": "code",
   "execution_count": 240,
   "metadata": {
    "collapsed": true
   },
   "outputs": [],
   "source": [
    "from random import *"
   ]
  },
  {
   "cell_type": "code",
   "execution_count": 241,
   "metadata": {
    "collapsed": false
   },
   "outputs": [],
   "source": [
    "#Dans la zone étudiée, on estime qu'il y a 4 fois plus de gazelles que de lions/lionnes\n",
    "#Ainsi, par exemple, sur une zone matrice de 25 \"cases\" on comptera 12 gazelles, 3 lions/lionnes et donc 10 cases vides\n",
    "#La gazelle prend comme valeur 1\n",
    "#La meute de lionne prend la valeur 2\n",
    "#Le lion prend la valeur 3\n",
    "#Une case vide prend la valeur 0"
   ]
  },
  {
   "cell_type": "code",
   "execution_count": 242,
   "metadata": {
    "collapsed": false
   },
   "outputs": [
    {
     "data": {
      "text/plain": [
       "array([[ 0.,  0.,  0.,  0.,  0.,  0.,  0.,  0.,  0.,  0.],\n",
       "       [ 0.,  0.,  0.,  0.,  0.,  0.,  0.,  0.,  0.,  0.],\n",
       "       [ 0.,  0.,  0.,  0.,  0.,  0.,  0.,  0.,  0.,  0.],\n",
       "       [ 0.,  0.,  0.,  0.,  0.,  0.,  0.,  0.,  0.,  0.],\n",
       "       [ 0.,  0.,  0.,  0.,  0.,  0.,  0.,  0.,  0.,  0.],\n",
       "       [ 0.,  0.,  0.,  0.,  0.,  0.,  0.,  0.,  0.,  0.],\n",
       "       [ 0.,  0.,  0.,  0.,  0.,  0.,  0.,  0.,  0.,  0.],\n",
       "       [ 0.,  0.,  0.,  0.,  0.,  0.,  0.,  0.,  0.,  0.],\n",
       "       [ 0.,  0.,  0.,  0.,  0.,  0.,  0.,  0.,  0.,  0.],\n",
       "       [ 0.,  0.,  0.,  0.,  0.,  0.,  0.,  0.,  0.,  0.]])"
      ]
     },
     "execution_count": 242,
     "metadata": {},
     "output_type": "execute_result"
    }
   ],
   "source": [
    "#Création d'une matrice d composée uniquement de 0 représentant une case vide\n",
    "#matrice composée de a lignes et b colonnes (a et b étant des valeurs que l'on peut modifier directement dans le programme)\n",
    "a=10\n",
    "b=10\n",
    "d = np.zeros((a,b))\n",
    "d"
   ]
  },
  {
   "cell_type": "code",
   "execution_count": 243,
   "metadata": {
    "collapsed": true
   },
   "outputs": [],
   "source": [
    "#Création d'une liste M avec toutes les positions possibles de la matrice d \n",
    "M=[]\n",
    "for k in range (0,a) : \n",
    "    for i in range (0,b) : \n",
    "        M.append([k,i])"
   ]
  },
  {
   "cell_type": "code",
   "execution_count": 244,
   "metadata": {
    "collapsed": false,
    "scrolled": true
   },
   "outputs": [
    {
     "data": {
      "text/plain": [
       "[[0, 0],\n",
       " [0, 1],\n",
       " [0, 2],\n",
       " [0, 3],\n",
       " [0, 4],\n",
       " [0, 5],\n",
       " [0, 6],\n",
       " [0, 7],\n",
       " [0, 8],\n",
       " [0, 9],\n",
       " [1, 0],\n",
       " [1, 1],\n",
       " [1, 2],\n",
       " [1, 3],\n",
       " [1, 4],\n",
       " [1, 5],\n",
       " [1, 6],\n",
       " [1, 7],\n",
       " [1, 8],\n",
       " [1, 9],\n",
       " [2, 0],\n",
       " [2, 1],\n",
       " [2, 2],\n",
       " [2, 3],\n",
       " [2, 4],\n",
       " [2, 5],\n",
       " [2, 6],\n",
       " [2, 7],\n",
       " [2, 8],\n",
       " [2, 9],\n",
       " [3, 0],\n",
       " [3, 1],\n",
       " [3, 2],\n",
       " [3, 3],\n",
       " [3, 4],\n",
       " [3, 5],\n",
       " [3, 6],\n",
       " [3, 7],\n",
       " [3, 8],\n",
       " [3, 9],\n",
       " [4, 0],\n",
       " [4, 1],\n",
       " [4, 2],\n",
       " [4, 3],\n",
       " [4, 4],\n",
       " [4, 5],\n",
       " [4, 6],\n",
       " [4, 7],\n",
       " [4, 8],\n",
       " [4, 9],\n",
       " [5, 0],\n",
       " [5, 1],\n",
       " [5, 2],\n",
       " [5, 3],\n",
       " [5, 4],\n",
       " [5, 5],\n",
       " [5, 6],\n",
       " [5, 7],\n",
       " [5, 8],\n",
       " [5, 9],\n",
       " [6, 0],\n",
       " [6, 1],\n",
       " [6, 2],\n",
       " [6, 3],\n",
       " [6, 4],\n",
       " [6, 5],\n",
       " [6, 6],\n",
       " [6, 7],\n",
       " [6, 8],\n",
       " [6, 9],\n",
       " [7, 0],\n",
       " [7, 1],\n",
       " [7, 2],\n",
       " [7, 3],\n",
       " [7, 4],\n",
       " [7, 5],\n",
       " [7, 6],\n",
       " [7, 7],\n",
       " [7, 8],\n",
       " [7, 9],\n",
       " [8, 0],\n",
       " [8, 1],\n",
       " [8, 2],\n",
       " [8, 3],\n",
       " [8, 4],\n",
       " [8, 5],\n",
       " [8, 6],\n",
       " [8, 7],\n",
       " [8, 8],\n",
       " [8, 9],\n",
       " [9, 0],\n",
       " [9, 1],\n",
       " [9, 2],\n",
       " [9, 3],\n",
       " [9, 4],\n",
       " [9, 5],\n",
       " [9, 6],\n",
       " [9, 7],\n",
       " [9, 8],\n",
       " [9, 9]]"
      ]
     },
     "execution_count": 244,
     "metadata": {},
     "output_type": "execute_result"
    }
   ],
   "source": [
    "M"
   ]
  },
  {
   "cell_type": "code",
   "execution_count": 245,
   "metadata": {
    "collapsed": false
   },
   "outputs": [],
   "source": [
    "indices = np.random.choice(np.arange(len(M)), a*b, replace=False)\n"
   ]
  },
  {
   "cell_type": "code",
   "execution_count": 246,
   "metadata": {
    "collapsed": false
   },
   "outputs": [],
   "source": [
    "#Création d'un tableau \"positions\" représentant toutes les positions de la matrice \"d\" dans le désordre \n",
    "positions = np.array(M)[indices]"
   ]
  },
  {
   "cell_type": "code",
   "execution_count": 247,
   "metadata": {
    "collapsed": false,
    "scrolled": true
   },
   "outputs": [
    {
     "data": {
      "text/plain": [
       "array([[2, 0],\n",
       "       [3, 1],\n",
       "       [8, 3],\n",
       "       [0, 1],\n",
       "       [8, 8],\n",
       "       [5, 1],\n",
       "       [7, 2],\n",
       "       [7, 9],\n",
       "       [6, 6],\n",
       "       [4, 0],\n",
       "       [2, 8],\n",
       "       [0, 9],\n",
       "       [4, 3],\n",
       "       [8, 6],\n",
       "       [9, 5],\n",
       "       [2, 6],\n",
       "       [9, 6],\n",
       "       [0, 0],\n",
       "       [5, 6],\n",
       "       [4, 5],\n",
       "       [0, 8],\n",
       "       [1, 6],\n",
       "       [4, 2],\n",
       "       [8, 7],\n",
       "       [0, 5],\n",
       "       [0, 4],\n",
       "       [5, 0],\n",
       "       [8, 5],\n",
       "       [7, 7],\n",
       "       [3, 8],\n",
       "       [6, 7],\n",
       "       [3, 6],\n",
       "       [1, 5],\n",
       "       [4, 9],\n",
       "       [7, 1],\n",
       "       [3, 3],\n",
       "       [7, 3],\n",
       "       [0, 2],\n",
       "       [3, 0],\n",
       "       [4, 1],\n",
       "       [7, 0],\n",
       "       [2, 7],\n",
       "       [9, 3],\n",
       "       [4, 4],\n",
       "       [7, 6],\n",
       "       [5, 9],\n",
       "       [3, 7],\n",
       "       [9, 4],\n",
       "       [9, 7],\n",
       "       [3, 4],\n",
       "       [5, 2],\n",
       "       [9, 0],\n",
       "       [7, 4],\n",
       "       [2, 9],\n",
       "       [2, 1],\n",
       "       [2, 5],\n",
       "       [5, 5],\n",
       "       [1, 3],\n",
       "       [9, 1],\n",
       "       [2, 3],\n",
       "       [1, 1],\n",
       "       [9, 8],\n",
       "       [6, 2],\n",
       "       [6, 1],\n",
       "       [8, 1],\n",
       "       [9, 2],\n",
       "       [1, 2],\n",
       "       [6, 0],\n",
       "       [6, 8],\n",
       "       [8, 0],\n",
       "       [5, 3],\n",
       "       [0, 6],\n",
       "       [7, 5],\n",
       "       [6, 3],\n",
       "       [4, 7],\n",
       "       [0, 7],\n",
       "       [4, 6],\n",
       "       [0, 3],\n",
       "       [8, 4],\n",
       "       [3, 2],\n",
       "       [1, 8],\n",
       "       [1, 0],\n",
       "       [9, 9],\n",
       "       [4, 8],\n",
       "       [5, 8],\n",
       "       [5, 4],\n",
       "       [5, 7],\n",
       "       [1, 9],\n",
       "       [2, 2],\n",
       "       [6, 9],\n",
       "       [7, 8],\n",
       "       [1, 7],\n",
       "       [6, 5],\n",
       "       [8, 9],\n",
       "       [8, 2],\n",
       "       [3, 5],\n",
       "       [3, 9],\n",
       "       [2, 4],\n",
       "       [1, 4],\n",
       "       [6, 4]])"
      ]
     },
     "execution_count": 247,
     "metadata": {},
     "output_type": "execute_result"
    }
   ],
   "source": [
    "positions"
   ]
  },
  {
   "cell_type": "code",
   "execution_count": 307,
   "metadata": {
    "collapsed": false
   },
   "outputs": [
    {
     "name": "stdout",
     "output_type": "stream",
     "text": [
      "[2 0]\n",
      "[3 1]\n",
      "[8 3]\n",
      "[0 1]\n",
      "[8 8]\n",
      "[5 1]\n",
      "[7 2]\n",
      "[7 9]\n",
      "[6 6]\n",
      "[4 0]\n",
      "[2 8]\n",
      "[0 9]\n",
      "[4 3]\n",
      "[8 6]\n",
      "[9 5]\n",
      "[2 6]\n",
      "[9 6]\n",
      "[0 0]\n",
      "[5 6]\n",
      "[4 5]\n",
      "[0 8]\n",
      "[1 6]\n",
      "[4 2]\n",
      "[8 7]\n",
      "[0 5]\n",
      "[0 4]\n",
      "[5 0]\n",
      "[8 5]\n",
      "[7 7]\n",
      "[3 8]\n",
      "[6 7]\n",
      "[3 6]\n",
      "[1 5]\n",
      "[4 9]\n",
      "[7 1]\n",
      "[3 3]\n",
      "[7 3]\n",
      "[0 2]\n",
      "[3 0]\n",
      "[4 1]\n",
      "[7 0]\n",
      "[2 7]\n",
      "[9 3]\n",
      "[4 4]\n",
      "[7 6]\n",
      "[5 9]\n",
      "[3 7]\n",
      "[9 4]\n",
      "[9 7]\n",
      "[3 4]\n",
      "[5 2]\n",
      "[9 0]\n",
      "[7 4]\n",
      "[2 9]\n",
      "[2 1]\n",
      "[2 5]\n",
      "[5 5]\n",
      "[1 3]\n",
      "[9 1]\n",
      "[2 3]\n",
      "[1 1]\n",
      "[9 8]\n",
      "[6 2]\n",
      "[6 1]\n",
      "[8 1]\n",
      "[9 2]\n",
      "[1 2]\n",
      "[6 0]\n",
      "[6 8]\n",
      "[8 0]\n",
      "[5 3]\n",
      "[0 6]\n",
      "[7 5]\n",
      "[6 3]\n",
      "[4 7]\n",
      "[0 7]\n",
      "[4 6]\n",
      "[0 3]\n",
      "[8 4]\n",
      "[3 2]\n",
      "[1 8]\n",
      "[1 0]\n",
      "[9 9]\n",
      "[4 8]\n",
      "[5 8]\n",
      "[5 4]\n",
      "[5 7]\n",
      "[1 9]\n",
      "[2 2]\n",
      "[6 9]\n",
      "[7 8]\n",
      "[1 7]\n",
      "[6 5]\n",
      "[8 9]\n",
      "[8 2]\n",
      "[3 5]\n",
      "[3 9]\n",
      "[2 4]\n",
      "[1 4]\n",
      "[6 4]\n",
      "En [2 0] on a mis une gazelle\n",
      "En [3 1] on a mis une gazelle\n",
      "En [8 3] on a mis une gazelle\n",
      "En [0 1] on a mis une gazelle\n",
      "En [8 8] on a mis une gazelle\n",
      "En [5 1] on a mis une gazelle\n",
      "En [7 2] on a mis une gazelle\n",
      "En [7 9] on a mis une gazelle\n",
      "En [6 6] on a mis une gazelle\n",
      "En [4 0] on a mis une gazelle\n",
      "En [2 8] on a mis une gazelle\n",
      "En [0 9] on a mis une gazelle\n",
      "En [4 3] on a mis une gazelle\n",
      "En [8 6] on a mis une gazelle\n",
      "En [9 5] on a mis une gazelle\n",
      "En [2 6] on a mis une gazelle\n",
      "En [9 6] on a mis une gazelle\n",
      "En [0 0] on a mis une gazelle\n",
      "En [5 6] on a mis une gazelle\n",
      "En [4 5] on a mis une gazelle\n",
      "En [0 8] on a mis une gazelle\n",
      "En [1 6] on a mis une gazelle\n",
      "En [4 2] on a mis une gazelle\n",
      "En [8 7] on a mis une gazelle\n",
      "En [0 5] on a mis une gazelle\n",
      "En [0 4] on a mis une gazelle\n",
      "En [5 0] on a mis une gazelle\n",
      "En [8 5] on a mis une gazelle\n",
      "En [7 7] on a mis une gazelle\n",
      "En [3 8] on a mis une gazelle\n",
      "En [6 7] on a mis une gazelle\n",
      "En [3 6] on a mis une gazelle\n",
      "En [1 5] on a mis une gazelle\n",
      "En [4 9] on a mis une gazelle\n",
      "En [7 1] on a mis une gazelle\n",
      "En [3 3] on a mis une gazelle\n",
      "En [7 3] on a mis une gazelle\n",
      "En [0 2] on a mis une gazelle\n",
      "En [3 0] on a mis une gazelle\n",
      "En [4 1] on a mis une gazelle\n",
      "En [7 0] on a mis une gazelle\n",
      "En [2 7] on a mis une gazelle\n",
      "En [9 3] on a mis une gazelle\n",
      "En [4 4] on a mis une gazelle\n",
      "En [7 6] on a mis une gazelle\n",
      "En [5 9] on a mis une gazelle\n",
      "En [3 7] on a mis une gazelle\n"
     ]
    }
   ],
   "source": [
    "#On remplace maintenant dans la matrice d, certaines cases vides par une case représentant une gazelle dont la valeur est\n",
    "#égale à 1. On estime qu'il faut remplir la matrice à 48% de gazelles\n",
    "n = len(positions)\n",
    "c=0\n",
    "for k in range (0,n) :\n",
    "    position = positions[k]\n",
    "    print(position)\n",
    "    value = d[position[0],position[1]]\n",
    "    if value==1 : \n",
    "        c=c+1\n",
    "q=0\n",
    "while c<0.48*n :\n",
    "    position = positions[q]\n",
    "    value = d[position[0],position[1]]\n",
    "    if value==1 : \n",
    "        q=q+1\n",
    "    else : \n",
    "        d[position[0],position[1]] = 1\n",
    "        print(\"En {} on a mis une gazelle\".format(position))\n",
    "        c = c+1\n",
    "        q=q+1"
   ]
  },
  {
   "cell_type": "code",
   "execution_count": 308,
   "metadata": {
    "collapsed": false,
    "scrolled": true
   },
   "outputs": [
    {
     "name": "stdout",
     "output_type": "stream",
     "text": [
      "[2 0]\n",
      "[3 1]\n",
      "[8 3]\n",
      "[0 1]\n",
      "[8 8]\n",
      "[5 1]\n",
      "[7 2]\n",
      "[7 9]\n",
      "[6 6]\n",
      "[4 0]\n",
      "[2 8]\n",
      "[0 9]\n",
      "[4 3]\n",
      "[8 6]\n",
      "[9 5]\n",
      "[2 6]\n",
      "[9 6]\n",
      "[0 0]\n",
      "[5 6]\n",
      "[4 5]\n",
      "[0 8]\n",
      "[1 6]\n",
      "[4 2]\n",
      "[8 7]\n",
      "[0 5]\n",
      "[0 4]\n",
      "[5 0]\n",
      "[8 5]\n",
      "[7 7]\n",
      "[3 8]\n",
      "[6 7]\n",
      "[3 6]\n",
      "[1 5]\n",
      "[4 9]\n",
      "[7 1]\n",
      "[3 3]\n",
      "[7 3]\n",
      "[0 2]\n",
      "[3 0]\n",
      "[4 1]\n",
      "[7 0]\n",
      "[2 7]\n",
      "[9 3]\n",
      "[4 4]\n",
      "[7 6]\n",
      "[5 9]\n",
      "[3 7]\n",
      "[9 4]\n",
      "[9 7]\n",
      "[3 4]\n",
      "[5 2]\n",
      "[9 0]\n",
      "[7 4]\n",
      "[2 9]\n",
      "[2 1]\n",
      "[2 5]\n",
      "[5 5]\n",
      "[1 3]\n",
      "[9 1]\n",
      "[2 3]\n",
      "[1 1]\n",
      "[9 8]\n",
      "[6 2]\n",
      "[6 1]\n",
      "[8 1]\n",
      "[9 2]\n",
      "[1 2]\n",
      "[6 0]\n",
      "[6 8]\n",
      "[8 0]\n",
      "[5 3]\n",
      "[0 6]\n",
      "[7 5]\n",
      "[6 3]\n",
      "[4 7]\n",
      "[0 7]\n",
      "[4 6]\n",
      "[0 3]\n",
      "[8 4]\n",
      "[3 2]\n",
      "[1 8]\n",
      "[1 0]\n",
      "[9 9]\n",
      "[4 8]\n",
      "[5 8]\n",
      "[5 4]\n",
      "[5 7]\n",
      "[1 9]\n",
      "[2 2]\n",
      "[6 9]\n",
      "[7 8]\n",
      "[1 7]\n",
      "[6 5]\n",
      "[8 9]\n",
      "[8 2]\n",
      "[3 5]\n",
      "[3 9]\n",
      "[2 4]\n",
      "[1 4]\n",
      "[6 4]\n",
      "En [9 4] on a mis un lion\n",
      "En [9 7] on a mis un lion\n",
      "En [3 4] on a mis un lion\n"
     ]
    }
   ],
   "source": [
    "#On remplace maintenant quelques cases vide par une case représenant les lions. \n",
    "#On estime qu'ils sont présents à 4%\n",
    "n = len(positions)\n",
    "x=0\n",
    "for k in range (0,n) :\n",
    "    position = positions[k]\n",
    "    print(position)\n",
    "    value = d[position[0],position[1]]\n",
    "    if value==2 : \n",
    "        x=x+1\n",
    "q=0\n",
    "while x<0.04*n :\n",
    "    position = positions[q]\n",
    "    value = d[position[0],position[1]]\n",
    "    if value==2 : \n",
    "        q=q+1\n",
    "    elif value == 1 :\n",
    "        q=q+1\n",
    "    else : \n",
    "        d[position[0],position[1]] = 2\n",
    "        print(\"En {} on a mis un lion\".format(position))\n",
    "        x = x+1\n",
    "        q=q+1"
   ]
  },
  {
   "cell_type": "code",
   "execution_count": 309,
   "metadata": {
    "collapsed": false
   },
   "outputs": [
    {
     "name": "stdout",
     "output_type": "stream",
     "text": [
      "En [5 2] on a mis une lionne\n",
      "En [7 4] on a mis une lionne\n",
      "En [2 1] on a mis une lionne\n",
      "En [2 5] on a mis une lionne\n",
      "En [5 5] on a mis une lionne\n"
     ]
    }
   ],
   "source": [
    "#On rajoute maintenant les meutes de lionnes éstimées à 8%\n",
    "n = len(positions)\n",
    "y=0\n",
    "for k in range (0,n) :\n",
    "    position = positions[k]\n",
    "    value = d[position[0],position[1]]\n",
    "    if value==3 : \n",
    "        y=y+1\n",
    "q=0\n",
    "while y<0.08*n :\n",
    "    position = positions[q]\n",
    "    value = d[position[0],position[1]]\n",
    "    if value == 3 : \n",
    "        q=q+1\n",
    "    elif value == 1 :\n",
    "        q=q+1\n",
    "    elif value == 2 :\n",
    "        q=q+1\n",
    "    else : \n",
    "        d[position[0],position[1]] = 3\n",
    "        print(\"En {} on a mis une lionne\".format(position))\n",
    "        y = y+1\n",
    "        q=q+1"
   ]
  },
  {
   "cell_type": "code",
   "execution_count": 251,
   "metadata": {
    "collapsed": false
   },
   "outputs": [
    {
     "data": {
      "text/plain": [
       "array([[ 1.,  1.,  1.,  0.,  1.,  1.,  0.,  0.,  1.,  1.],\n",
       "       [ 0.,  0.,  0.,  3.,  0.,  1.,  1.,  0.,  0.,  0.],\n",
       "       [ 1.,  3.,  0.,  3.,  0.,  3.,  1.,  1.,  1.,  3.],\n",
       "       [ 1.,  1.,  0.,  1.,  2.,  0.,  1.,  1.,  1.,  0.],\n",
       "       [ 1.,  1.,  1.,  1.,  1.,  1.,  0.,  0.,  0.,  1.],\n",
       "       [ 1.,  1.,  2.,  0.,  0.,  3.,  1.,  0.,  0.,  1.],\n",
       "       [ 0.,  0.,  0.,  0.,  0.,  0.,  1.,  1.,  0.,  0.],\n",
       "       [ 1.,  1.,  1.,  1.,  3.,  0.,  1.,  1.,  0.,  1.],\n",
       "       [ 0.,  0.,  0.,  1.,  0.,  1.,  1.,  1.,  1.,  0.],\n",
       "       [ 2.,  3.,  0.,  1.,  1.,  1.,  1.,  2.,  0.,  0.]])"
      ]
     },
     "execution_count": 251,
     "metadata": {},
     "output_type": "execute_result"
    }
   ],
   "source": [
    "#On affiche maintenant la matrice d avec toute la population placée aléatoirement. \n",
    "d"
   ]
  },
  {
   "cell_type": "code",
   "execution_count": 252,
   "metadata": {
    "collapsed": false
   },
   "outputs": [
    {
     "data": {
      "text/plain": [
       "100"
      ]
     },
     "execution_count": 252,
     "metadata": {},
     "output_type": "execute_result"
    }
   ],
   "source": [
    "d.size"
   ]
  },
  {
   "cell_type": "code",
   "execution_count": 253,
   "metadata": {
    "collapsed": false
   },
   "outputs": [
    {
     "data": {
      "text/plain": [
       "48"
      ]
     },
     "execution_count": 253,
     "metadata": {},
     "output_type": "execute_result"
    }
   ],
   "source": [
    "len(np.where(d == 1.)[0])"
   ]
  },
  {
   "cell_type": "code",
   "execution_count": 254,
   "metadata": {
    "collapsed": false
   },
   "outputs": [
    {
     "data": {
      "text/plain": [
       "4"
      ]
     },
     "execution_count": 254,
     "metadata": {},
     "output_type": "execute_result"
    }
   ],
   "source": [
    "len(np.where(d == 2.)[0])"
   ]
  },
  {
   "cell_type": "code",
   "execution_count": 255,
   "metadata": {
    "collapsed": false
   },
   "outputs": [
    {
     "data": {
      "text/plain": [
       "8"
      ]
     },
     "execution_count": 255,
     "metadata": {},
     "output_type": "execute_result"
    }
   ],
   "source": [
    "len(np.where(d == 3.)[0])"
   ]
  },
  {
   "cell_type": "code",
   "execution_count": 256,
   "metadata": {
    "collapsed": false
   },
   "outputs": [],
   "source": [
    "#On s'interesse aux voisins de chaque case\n",
    "def voisins(x,y) : \n",
    "    \"\"\"Renvoie aléatoirement un des voisins de (x,y) dans la matrice d en faisant attention aux coins/bords\"\"\"\n",
    "    L = []\n",
    "\n",
    "    #coin supérieur gauche\n",
    "    if x == 0 and y == 0 : \n",
    "        L.append(d[(x+1),y])\n",
    "        L.append(d[x,(y+1)])\n",
    "    \n",
    "    #coin supérieur droit\n",
    "    elif x == 0 and y == (b-1) : \n",
    "        L.append(d[(x+1),y])\n",
    "        L.append(d[x,(y-1)])\n",
    "    \n",
    "    #coin inférieur gauche\n",
    "    elif x == (a-1) and y == 0 : \n",
    "        L.append(d[x,(y+1)])\n",
    "        L.append(d[(x-1),y])\n",
    "    \n",
    "    #coin inférieur droit\n",
    "    elif x == (a-1) and y == (b-1) : \n",
    "        L.append(d[(x-1),y])\n",
    "        L.append(d[x,(y-1)])\n",
    "    \n",
    "    #ligne du haut\n",
    "    elif x == 0 and y != 0:\n",
    "        L.append(d[(x,(y-1))])\n",
    "        L.append(d[(x+1),y])\n",
    "        L.append(d[x,(y+1)])\n",
    "        \n",
    "    #ligne de gauche\n",
    "    elif x !=0 and y == 0 : \n",
    "        L.append(d[(x-1),y])\n",
    "        L.append(d[(x+1),y])\n",
    "        L.append(d[x,(y+1)])\n",
    "        \n",
    "    #ligne du bas\n",
    "    elif x == (a-1) and y != 0 : \n",
    "        L.append(d[(x-1),y])\n",
    "        L.append(d[x,(y-1)])\n",
    "        L.append(d[x,(y+1)])\n",
    "    \n",
    "    #ligne de droite\n",
    "    elif x != 0 and y == (b-1) : \n",
    "        L.append(d[(x-1),y])\n",
    "        L.append(d[x,(y-1)])\n",
    "        L.append(d[(x+1),y])\n",
    "\n",
    "    #cas général\n",
    "    else :\n",
    "        L.append(d[x,(y-1)])\n",
    "        L.append(d[(x-1),y])\n",
    "        L.append(d[x,(y+1)])\n",
    "        L.append(d[(x+1),y])\n",
    "\n",
    "    g = choice(L)\n",
    "   \n",
    "    return g\n",
    "    "
   ]
  },
  {
   "cell_type": "code",
   "execution_count": 257,
   "metadata": {
    "collapsed": false
   },
   "outputs": [
    {
     "data": {
      "text/plain": [
       "array([[ 1.,  1.,  1.,  0.,  1.,  1.,  0.,  0.,  1.,  1.],\n",
       "       [ 0.,  0.,  0.,  3.,  0.,  1.,  1.,  0.,  0.,  0.],\n",
       "       [ 1.,  3.,  0.,  3.,  0.,  3.,  1.,  1.,  1.,  3.],\n",
       "       [ 1.,  1.,  0.,  1.,  2.,  0.,  1.,  1.,  1.,  0.],\n",
       "       [ 1.,  1.,  1.,  1.,  1.,  1.,  0.,  0.,  0.,  1.],\n",
       "       [ 1.,  1.,  2.,  0.,  0.,  3.,  1.,  0.,  0.,  1.],\n",
       "       [ 0.,  0.,  0.,  0.,  0.,  0.,  1.,  1.,  0.,  0.],\n",
       "       [ 1.,  1.,  1.,  1.,  3.,  0.,  1.,  1.,  0.,  1.],\n",
       "       [ 0.,  0.,  0.,  1.,  0.,  1.,  1.,  1.,  1.,  0.],\n",
       "       [ 2.,  3.,  0.,  1.,  1.,  1.,  1.,  2.,  0.,  0.]])"
      ]
     },
     "execution_count": 257,
     "metadata": {},
     "output_type": "execute_result"
    }
   ],
   "source": [
    "d"
   ]
  },
  {
   "cell_type": "code",
   "execution_count": 258,
   "metadata": {
    "collapsed": true
   },
   "outputs": [],
   "source": [
    "#On s'interesse aux voisins de chaque case\n",
    "def voisins2(x,y) : \n",
    "    \"\"\"Renvoie tous les voisins de (x,y) dans la matrice d en faisant attention aux coins/bords\"\"\"\n",
    "    L = []\n",
    "    CoordL=[]\n",
    "\n",
    "    #coin supérieur gauche\n",
    "    if x == 0 and y == 0 : \n",
    "        L.append(d[(x+1),y])\n",
    "        CoordL.append(tuple([(x+1),y]))\n",
    "        L.append(d[x,(y+1)])\n",
    "        CoordL.append(tuple([x,(y+1)]))\n",
    "    \n",
    "    #coin supérieur droit\n",
    "    elif x == 0 and y == (b-1) : \n",
    "        L.append(d[(x+1),y])\n",
    "        CoordL.append(tuple([(x+1),y]))\n",
    "        L.append(d[x,(y-1)])\n",
    "        CoordL.append(tuple([x,(y-1)]))\n",
    "    \n",
    "    #coin inférieur gauche\n",
    "    elif x == (a-1) and y == 0 : \n",
    "        L.append(d[x,(y+1)])\n",
    "        CoordL.append(tuple([x,(y+1)]))\n",
    "        L.append(d[(x-1),y])\n",
    "        CoordL.append(tuple([(x-1),y]))\n",
    "    \n",
    "    #coin inférieur droit\n",
    "    elif x == (a-1) and y == (b-1) :\n",
    "        L.append(d[(x-1),y])\n",
    "        CoordL.append(tuple([(x-1),y]))\n",
    "        L.append(d[x,(y-1)])\n",
    "        CoordL.append(tuple([x,(y-1)]))\n",
    "        #ligne du haut\n",
    "    elif x == 0 and y != 0:\n",
    "        L.append(d[(x,(y-1))])\n",
    "        CoordL.append(tuple([x,(y-1)]))\n",
    "        L.append(d[(x+1),y])\n",
    "        CoordL.append(tuple([(x+1),y]))\n",
    "        L.append(d[x,(y+1)])\n",
    "        CoordL.append(tuple([x,(y+1)]))\n",
    "        \n",
    "    #ligne de gauche\n",
    "    elif x !=0 and y == 0 : \n",
    "        L.append(d[(x-1),y])\n",
    "        CoordL.append(tuple([(x-1),y]))\n",
    "        L.append(d[(x+1),y])\n",
    "        CoordL.append(tuple([(x+1),y]))\n",
    "        L.append(d[x,(y+1)])\n",
    "        CoordL.append(tuple([x,(y+1)]))\n",
    "        \n",
    "    #ligne du bas\n",
    "    elif x == (a-1) and y != 0 : \n",
    "        L.append(d[(x-1),y])\n",
    "        CoordL.append(tuple([(x-1),y]))\n",
    "        L.append(d[x,(y-1)])\n",
    "        CoordL.append(tuple([x,(y-1)]))\n",
    "        L.append(d[x,(y+1)])\n",
    "        CoordL.append(tuple([x,(y+1)]))\n",
    "    \n",
    "    #ligne de droite\n",
    "    elif x != 0 and y == (b-1) : \n",
    "        L.append(d[(x-1),y])\n",
    "        CoordL.append(tuple([(x-1),y]))\n",
    "        L.append(d[x,(y-1)])\n",
    "        CoordL.append(tuple([x,(y-1)]))\n",
    "        L.append(d[(x+1),y])\n",
    "        CoordL.append(tuple([(x+1),y]))\n",
    "        \n",
    "    #cas général\n",
    "    else :\n",
    "        L.append(d[x,(y-1)])\n",
    "        CoordL.append(tuple([x,(y-1)]))\n",
    "        L.append(d[(x-1),y])\n",
    "        CoordL.append(tuple([(x-1),y]))\n",
    "        L.append(d[x,(y+1)])\n",
    "        CoordL.append(tuple([x,(y+1)]))\n",
    "        L.append(d[(x+1),y])\n",
    "        CoordL.append(tuple([(x+1),y]))\n",
    "   \n",
    "    return L , CoordL\n",
    "\n"
   ]
  },
  {
   "cell_type": "code",
   "execution_count": 259,
   "metadata": {
    "collapsed": true
   },
   "outputs": [],
   "source": [
    "#On s'interesse aux voisins de chaque case\n",
    "def voisins3(x,y) : \n",
    "    \"\"\"Renvoie tous les voisins de (x,y) dans la matrice d en faisant attention aux coins/bords\"\"\"\n",
    "    L = []\n",
    "    CoordL=[]\n",
    "\n",
    "    #coin supérieur gauche\n",
    "    if x == 0 and y == 0 : \n",
    "        L.append(d[(x+1),y])\n",
    "        CoordL.append(tuple([d[(x+1),y],((x+1),y)]))\n",
    "        L.append(d[x,(y+1)])\n",
    "        CoordL.append(tuple([d[x,(y+1)],(x,(y+1))]))\n",
    "    \n",
    "    #coin supérieur droit\n",
    "    elif x == 0 and y == (b-1) : \n",
    "        L.append(d[(x+1),y])\n",
    "        CoordL.append(tuple([d[(x+1),y],((x+1),y)]))\n",
    "        L.append(d[x,(y-1)])\n",
    "        CoordL.append(tuple([d[x,(y-1)],(x,(y-1))]))\n",
    "    \n",
    "    #coin inférieur gauche\n",
    "    elif x == (a-1) and y == 0 : \n",
    "        L.append(d[x,(y+1)])\n",
    "        CoordL.append(tuple([d[x,(y+1)],(x,(y+1))]))\n",
    "        L.append(d[(x-1),y])\n",
    "        CoordL.append(tuple([d[(x-1),y],((x-1),y)]))\n",
    "    \n",
    "    #coin inférieur droit\n",
    "    elif x == (a-1) and y == (b-1) :\n",
    "        L.append(d[(x-1),y])\n",
    "        CoordL.append(tuple([d[(x-1),y],((x-1),y)]))\n",
    "        L.append(d[x,(y-1)])\n",
    "        CoordL.append(tuple([d[x,(y-1)],(x,(y-1))]))\n",
    "    \n",
    "    #ligne du haut\n",
    "    elif x == 0 and y != 0:\n",
    "        L.append(d[(x,(y-1))])\n",
    "        CoordL.append(tuple([d[x,(y-1)],(x,(y-1))]))\n",
    "        L.append(d[(x+1),y])\n",
    "        CoordL.append(tuple([d[(x+1),y],((x+1),y)]))\n",
    "        L.append(d[x,(y+1)])\n",
    "        CoordL.append(tuple([d[x,(y+1)],(x,(y+1))]))\n",
    "        \n",
    "    #ligne de gauche\n",
    "    elif x !=0 and y == 0 : \n",
    "        L.append(d[(x-1),y])\n",
    "        CoordL.append(tuple([d[(x-1),y],((x-1),y)]))\n",
    "        L.append(d[(x+1),y])\n",
    "        CoordL.append(tuple([d[(x+1),y],((x+1),y)]))\n",
    "        L.append(d[x,(y+1)])\n",
    "        CoordL.append(tuple([d[x,(y+1)],(x,(y+1))]))\n",
    "        \n",
    "    #ligne du bas\n",
    "    elif x == (a-1) and y != 0 : \n",
    "        L.append(d[(x-1),y])\n",
    "        CoordL.append(tuple([d[(x-1),y],((x-1),y)]))\n",
    "        L.append(d[x,(y-1)])\n",
    "        CoordL.append(tuple([d[x,(y-1)],(x,(y-1))]))\n",
    "        L.append(d[x,(y+1)])\n",
    "        CoordL.append(tuple([d[x,(y+1)],(x,(y+1))]))\n",
    "    \n",
    "    #ligne de droite\n",
    "    elif x != 0 and y == (b-1) : \n",
    "        L.append(d[(x-1),y])\n",
    "        CoordL.append(tuple([d[(x-1),y],((x-1),y)]))\n",
    "        L.append(d[x,(y-1)])\n",
    "        CoordL.append(tuple([d[x,(y-1)],(x,(y-1))]))\n",
    "        L.append(d[(x+1),y])\n",
    "        CoordL.append(tuple([d[(x+1),y],((x+1),y)]))\n",
    "\n",
    "    #cas général\n",
    "    else :\n",
    "        L.append(d[x,(y-1)])\n",
    "        CoordL.append(tuple([d[x,(y-1)],(x,(y-1))]))\n",
    "        L.append(d[(x-1),y])\n",
    "        CoordL.append(tuple([d[(x-1),y],((x-1),y)]))\n",
    "        L.append(d[x,(y+1)])\n",
    "        CoordL.append(tuple([d[x,(y+1)],(x,(y+1))]))\n",
    "        L.append(d[(x+1),y])\n",
    "        CoordL.append(tuple([d[(x+1),y],((x+1),y)]))\n",
    "   \n",
    "    g = choice(CoordL)\n",
    "    \n",
    "    return g"
   ]
  },
  {
   "cell_type": "code",
   "execution_count": 260,
   "metadata": {
    "collapsed": false
   },
   "outputs": [
    {
     "data": {
      "text/plain": [
       "([1.0, 0.0, 1.0], [(0, 0), (1, 1), (0, 2)])"
      ]
     },
     "execution_count": 260,
     "metadata": {},
     "output_type": "execute_result"
    }
   ],
   "source": [
    "voisins2(0,1)"
   ]
  },
  {
   "cell_type": "code",
   "execution_count": 261,
   "metadata": {
    "collapsed": false
   },
   "outputs": [
    {
     "data": {
      "text/plain": [
       "48"
      ]
     },
     "execution_count": 261,
     "metadata": {},
     "output_type": "execute_result"
    }
   ],
   "source": [
    "len(np.where(d == 1.)[0])"
   ]
  },
  {
   "cell_type": "code",
   "execution_count": 262,
   "metadata": {
    "collapsed": false
   },
   "outputs": [
    {
     "data": {
      "text/plain": [
       "8"
      ]
     },
     "execution_count": 262,
     "metadata": {},
     "output_type": "execute_result"
    }
   ],
   "source": [
    "c = len(np.where(d == 3.)[0])\n",
    "c"
   ]
  },
  {
   "cell_type": "code",
   "execution_count": 263,
   "metadata": {
    "collapsed": false
   },
   "outputs": [
    {
     "data": {
      "text/plain": [
       "100"
      ]
     },
     "execution_count": 263,
     "metadata": {},
     "output_type": "execute_result"
    }
   ],
   "source": [
    "n = d.size\n",
    "n"
   ]
  },
  {
   "cell_type": "code",
   "execution_count": 264,
   "metadata": {
    "collapsed": true
   },
   "outputs": [],
   "source": [
    "#réguler le nombre de meutes de lionnes présents dans la matrice afin de stabiliser son nombre à 8%\n",
    "while c > 0.08*n : \n",
    "    for k in range (0,a) :\n",
    "        for i in range (0,b) :\n",
    "            if d[k,i] == 3 : \n",
    "                d[k,i] = 0\n",
    "            else :\n",
    "                d[k,i] = 3"
   ]
  },
  {
   "cell_type": "code",
   "execution_count": 265,
   "metadata": {
    "collapsed": false
   },
   "outputs": [
    {
     "data": {
      "text/plain": [
       "8"
      ]
     },
     "execution_count": 265,
     "metadata": {},
     "output_type": "execute_result"
    }
   ],
   "source": [
    "len(np.where(d == 3.)[0])"
   ]
  },
  {
   "cell_type": "code",
   "execution_count": 266,
   "metadata": {
    "collapsed": false
   },
   "outputs": [
    {
     "data": {
      "text/plain": [
       "10"
      ]
     },
     "execution_count": 266,
     "metadata": {},
     "output_type": "execute_result"
    }
   ],
   "source": [
    "a"
   ]
  },
  {
   "cell_type": "code",
   "execution_count": 267,
   "metadata": {
    "collapsed": false
   },
   "outputs": [
    {
     "data": {
      "text/plain": [
       "8"
      ]
     },
     "execution_count": 267,
     "metadata": {},
     "output_type": "execute_result"
    }
   ],
   "source": [
    "len(np.where(d == 3.)[0])"
   ]
  },
  {
   "cell_type": "code",
   "execution_count": 268,
   "metadata": {
    "collapsed": true
   },
   "outputs": [],
   "source": [
    "#On s'interesse maintenant aux interactions entre les gazelles et les lions/meutes de lionnes\n",
    "#Pour l'instant on se met dans le cas ou dès lors qu'il y a rencontre entre gazelle et lion/meute de lionne, \n",
    "#la gazelle se fait attraper et elle fait donc place à une nouvelle case vide dont la valeur est 0\n",
    "#On caractérise la rencontre en un lion/une lionne et une gazelle par le fait qu'ils soient voisins"
   ]
  },
  {
   "cell_type": "code",
   "execution_count": 269,
   "metadata": {
    "collapsed": false
   },
   "outputs": [
    {
     "data": {
      "text/plain": [
       "array([[ 1.,  1.,  1.,  0.,  1.,  1.,  0.,  0.,  1.,  1.],\n",
       "       [ 0.,  0.,  0.,  3.,  0.,  1.,  1.,  0.,  0.,  0.],\n",
       "       [ 1.,  3.,  0.,  3.,  0.,  3.,  1.,  1.,  1.,  3.],\n",
       "       [ 1.,  1.,  0.,  1.,  2.,  0.,  1.,  1.,  1.,  0.],\n",
       "       [ 1.,  1.,  1.,  1.,  1.,  1.,  0.,  0.,  0.,  1.],\n",
       "       [ 1.,  1.,  2.,  0.,  0.,  3.,  1.,  0.,  0.,  1.],\n",
       "       [ 0.,  0.,  0.,  0.,  0.,  0.,  1.,  1.,  0.,  0.],\n",
       "       [ 1.,  1.,  1.,  1.,  3.,  0.,  1.,  1.,  0.,  1.],\n",
       "       [ 0.,  0.,  0.,  1.,  0.,  1.,  1.,  1.,  1.,  0.],\n",
       "       [ 2.,  3.,  0.,  1.,  1.,  1.,  1.,  2.,  0.,  0.]])"
      ]
     },
     "execution_count": 269,
     "metadata": {},
     "output_type": "execute_result"
    }
   ],
   "source": [
    "d"
   ]
  },
  {
   "cell_type": "code",
   "execution_count": 270,
   "metadata": {
    "collapsed": true
   },
   "outputs": [],
   "source": [
    "#tout d'abord, on doit scanner entièrement la matrice pour se rendre \n",
    "#compte de la position de chaque élément : ensuite on peut passer à la rencontre entre les différents êtres dans la matrice \n",
    "def scan_matrice() :\n",
    "    for k in range (0,a) :\n",
    "        for i in range (0,b) :\n",
    "            if (d[k,i]) == 1.:\n",
    "                print (\"gazelle,\",\"coordonnées:\",(k,i))\n",
    "            elif (d[k,i]) == 2.:\n",
    "                print (\"lion,\",\"coordonnées:\",(k,i))\n",
    "            if (d[k,i]) == 3.:\n",
    "                print (\"lionne,\",\"coordonnées:\",(k,i))\n",
    "            else :\n",
    "                print (\"case vide,\",\"coordonnées:\",(k,i))\n",
    "            print (\"voisins :\",voisins2(k,i))"
   ]
  },
  {
   "cell_type": "code",
   "execution_count": 271,
   "metadata": {
    "collapsed": false
   },
   "outputs": [
    {
     "name": "stdout",
     "output_type": "stream",
     "text": [
      "gazelle, coordonnées: (0, 0)\n",
      "case vide, coordonnées: (0, 0)\n",
      "voisins : ([0.0, 1.0], [(1, 0), (0, 1)])\n",
      "gazelle, coordonnées: (0, 1)\n",
      "case vide, coordonnées: (0, 1)\n",
      "voisins : ([1.0, 0.0, 1.0], [(0, 0), (1, 1), (0, 2)])\n",
      "gazelle, coordonnées: (0, 2)\n",
      "case vide, coordonnées: (0, 2)\n",
      "voisins : ([1.0, 0.0, 0.0], [(0, 1), (1, 2), (0, 3)])\n",
      "case vide, coordonnées: (0, 3)\n",
      "voisins : ([1.0, 3.0, 1.0], [(0, 2), (1, 3), (0, 4)])\n",
      "gazelle, coordonnées: (0, 4)\n",
      "case vide, coordonnées: (0, 4)\n",
      "voisins : ([0.0, 0.0, 1.0], [(0, 3), (1, 4), (0, 5)])\n",
      "gazelle, coordonnées: (0, 5)\n",
      "case vide, coordonnées: (0, 5)\n",
      "voisins : ([1.0, 1.0, 0.0], [(0, 4), (1, 5), (0, 6)])\n",
      "case vide, coordonnées: (0, 6)\n",
      "voisins : ([1.0, 1.0, 0.0], [(0, 5), (1, 6), (0, 7)])\n",
      "case vide, coordonnées: (0, 7)\n",
      "voisins : ([0.0, 0.0, 1.0], [(0, 6), (1, 7), (0, 8)])\n",
      "gazelle, coordonnées: (0, 8)\n",
      "case vide, coordonnées: (0, 8)\n",
      "voisins : ([0.0, 0.0, 1.0], [(0, 7), (1, 8), (0, 9)])\n",
      "gazelle, coordonnées: (0, 9)\n",
      "case vide, coordonnées: (0, 9)\n",
      "voisins : ([0.0, 1.0], [(1, 9), (0, 8)])\n",
      "case vide, coordonnées: (1, 0)\n",
      "voisins : ([1.0, 1.0, 0.0], [(0, 0), (2, 0), (1, 1)])\n",
      "case vide, coordonnées: (1, 1)\n",
      "voisins : ([0.0, 1.0, 0.0, 3.0], [(1, 0), (0, 1), (1, 2), (2, 1)])\n",
      "case vide, coordonnées: (1, 2)\n",
      "voisins : ([0.0, 1.0, 3.0, 0.0], [(1, 1), (0, 2), (1, 3), (2, 2)])\n",
      "lionne, coordonnées: (1, 3)\n",
      "voisins : ([0.0, 0.0, 0.0, 3.0], [(1, 2), (0, 3), (1, 4), (2, 3)])\n",
      "case vide, coordonnées: (1, 4)\n",
      "voisins : ([3.0, 1.0, 1.0, 0.0], [(1, 3), (0, 4), (1, 5), (2, 4)])\n",
      "gazelle, coordonnées: (1, 5)\n",
      "case vide, coordonnées: (1, 5)\n",
      "voisins : ([0.0, 1.0, 1.0, 3.0], [(1, 4), (0, 5), (1, 6), (2, 5)])\n",
      "gazelle, coordonnées: (1, 6)\n",
      "case vide, coordonnées: (1, 6)\n",
      "voisins : ([1.0, 0.0, 0.0, 1.0], [(1, 5), (0, 6), (1, 7), (2, 6)])\n",
      "case vide, coordonnées: (1, 7)\n",
      "voisins : ([1.0, 0.0, 0.0, 1.0], [(1, 6), (0, 7), (1, 8), (2, 7)])\n",
      "case vide, coordonnées: (1, 8)\n",
      "voisins : ([0.0, 1.0, 0.0, 1.0], [(1, 7), (0, 8), (1, 9), (2, 8)])\n",
      "case vide, coordonnées: (1, 9)\n",
      "voisins : ([1.0, 0.0, 3.0], [(0, 9), (1, 8), (2, 9)])\n",
      "gazelle, coordonnées: (2, 0)\n",
      "case vide, coordonnées: (2, 0)\n",
      "voisins : ([0.0, 1.0, 3.0], [(1, 0), (3, 0), (2, 1)])\n",
      "lionne, coordonnées: (2, 1)\n",
      "voisins : ([1.0, 0.0, 0.0, 1.0], [(2, 0), (1, 1), (2, 2), (3, 1)])\n",
      "case vide, coordonnées: (2, 2)\n",
      "voisins : ([3.0, 0.0, 3.0, 0.0], [(2, 1), (1, 2), (2, 3), (3, 2)])\n",
      "lionne, coordonnées: (2, 3)\n",
      "voisins : ([0.0, 3.0, 0.0, 1.0], [(2, 2), (1, 3), (2, 4), (3, 3)])\n",
      "case vide, coordonnées: (2, 4)\n",
      "voisins : ([3.0, 0.0, 3.0, 2.0], [(2, 3), (1, 4), (2, 5), (3, 4)])\n",
      "lionne, coordonnées: (2, 5)\n",
      "voisins : ([0.0, 1.0, 1.0, 0.0], [(2, 4), (1, 5), (2, 6), (3, 5)])\n",
      "gazelle, coordonnées: (2, 6)\n",
      "case vide, coordonnées: (2, 6)\n",
      "voisins : ([3.0, 1.0, 1.0, 1.0], [(2, 5), (1, 6), (2, 7), (3, 6)])\n",
      "gazelle, coordonnées: (2, 7)\n",
      "case vide, coordonnées: (2, 7)\n",
      "voisins : ([1.0, 0.0, 1.0, 1.0], [(2, 6), (1, 7), (2, 8), (3, 7)])\n",
      "gazelle, coordonnées: (2, 8)\n",
      "case vide, coordonnées: (2, 8)\n",
      "voisins : ([1.0, 0.0, 3.0, 1.0], [(2, 7), (1, 8), (2, 9), (3, 8)])\n",
      "lionne, coordonnées: (2, 9)\n",
      "voisins : ([0.0, 1.0, 0.0], [(1, 9), (2, 8), (3, 9)])\n",
      "gazelle, coordonnées: (3, 0)\n",
      "case vide, coordonnées: (3, 0)\n",
      "voisins : ([1.0, 1.0, 1.0], [(2, 0), (4, 0), (3, 1)])\n",
      "gazelle, coordonnées: (3, 1)\n",
      "case vide, coordonnées: (3, 1)\n",
      "voisins : ([1.0, 3.0, 0.0, 1.0], [(3, 0), (2, 1), (3, 2), (4, 1)])\n",
      "case vide, coordonnées: (3, 2)\n",
      "voisins : ([1.0, 0.0, 1.0, 1.0], [(3, 1), (2, 2), (3, 3), (4, 2)])\n",
      "gazelle, coordonnées: (3, 3)\n",
      "case vide, coordonnées: (3, 3)\n",
      "voisins : ([0.0, 3.0, 2.0, 1.0], [(3, 2), (2, 3), (3, 4), (4, 3)])\n",
      "lion, coordonnées: (3, 4)\n",
      "case vide, coordonnées: (3, 4)\n",
      "voisins : ([1.0, 0.0, 0.0, 1.0], [(3, 3), (2, 4), (3, 5), (4, 4)])\n",
      "case vide, coordonnées: (3, 5)\n",
      "voisins : ([2.0, 3.0, 1.0, 1.0], [(3, 4), (2, 5), (3, 6), (4, 5)])\n",
      "gazelle, coordonnées: (3, 6)\n",
      "case vide, coordonnées: (3, 6)\n",
      "voisins : ([0.0, 1.0, 1.0, 0.0], [(3, 5), (2, 6), (3, 7), (4, 6)])\n",
      "gazelle, coordonnées: (3, 7)\n",
      "case vide, coordonnées: (3, 7)\n",
      "voisins : ([1.0, 1.0, 1.0, 0.0], [(3, 6), (2, 7), (3, 8), (4, 7)])\n",
      "gazelle, coordonnées: (3, 8)\n",
      "case vide, coordonnées: (3, 8)\n",
      "voisins : ([1.0, 1.0, 0.0, 0.0], [(3, 7), (2, 8), (3, 9), (4, 8)])\n",
      "case vide, coordonnées: (3, 9)\n",
      "voisins : ([3.0, 1.0, 1.0], [(2, 9), (3, 8), (4, 9)])\n",
      "gazelle, coordonnées: (4, 0)\n",
      "case vide, coordonnées: (4, 0)\n",
      "voisins : ([1.0, 1.0, 1.0], [(3, 0), (5, 0), (4, 1)])\n",
      "gazelle, coordonnées: (4, 1)\n",
      "case vide, coordonnées: (4, 1)\n",
      "voisins : ([1.0, 1.0, 1.0, 1.0], [(4, 0), (3, 1), (4, 2), (5, 1)])\n",
      "gazelle, coordonnées: (4, 2)\n",
      "case vide, coordonnées: (4, 2)\n",
      "voisins : ([1.0, 0.0, 1.0, 2.0], [(4, 1), (3, 2), (4, 3), (5, 2)])\n",
      "gazelle, coordonnées: (4, 3)\n",
      "case vide, coordonnées: (4, 3)\n",
      "voisins : ([1.0, 1.0, 1.0, 0.0], [(4, 2), (3, 3), (4, 4), (5, 3)])\n",
      "gazelle, coordonnées: (4, 4)\n",
      "case vide, coordonnées: (4, 4)\n",
      "voisins : ([1.0, 2.0, 1.0, 0.0], [(4, 3), (3, 4), (4, 5), (5, 4)])\n",
      "gazelle, coordonnées: (4, 5)\n",
      "case vide, coordonnées: (4, 5)\n",
      "voisins : ([1.0, 0.0, 0.0, 3.0], [(4, 4), (3, 5), (4, 6), (5, 5)])\n",
      "case vide, coordonnées: (4, 6)\n",
      "voisins : ([1.0, 1.0, 0.0, 1.0], [(4, 5), (3, 6), (4, 7), (5, 6)])\n",
      "case vide, coordonnées: (4, 7)\n",
      "voisins : ([0.0, 1.0, 0.0, 0.0], [(4, 6), (3, 7), (4, 8), (5, 7)])\n",
      "case vide, coordonnées: (4, 8)\n",
      "voisins : ([0.0, 1.0, 1.0, 0.0], [(4, 7), (3, 8), (4, 9), (5, 8)])\n",
      "gazelle, coordonnées: (4, 9)\n",
      "case vide, coordonnées: (4, 9)\n",
      "voisins : ([0.0, 0.0, 1.0], [(3, 9), (4, 8), (5, 9)])\n",
      "gazelle, coordonnées: (5, 0)\n",
      "case vide, coordonnées: (5, 0)\n",
      "voisins : ([1.0, 0.0, 1.0], [(4, 0), (6, 0), (5, 1)])\n",
      "gazelle, coordonnées: (5, 1)\n",
      "case vide, coordonnées: (5, 1)\n",
      "voisins : ([1.0, 1.0, 2.0, 0.0], [(5, 0), (4, 1), (5, 2), (6, 1)])\n",
      "lion, coordonnées: (5, 2)\n",
      "case vide, coordonnées: (5, 2)\n",
      "voisins : ([1.0, 1.0, 0.0, 0.0], [(5, 1), (4, 2), (5, 3), (6, 2)])\n",
      "case vide, coordonnées: (5, 3)\n",
      "voisins : ([2.0, 1.0, 0.0, 0.0], [(5, 2), (4, 3), (5, 4), (6, 3)])\n",
      "case vide, coordonnées: (5, 4)\n",
      "voisins : ([0.0, 1.0, 3.0, 0.0], [(5, 3), (4, 4), (5, 5), (6, 4)])\n",
      "lionne, coordonnées: (5, 5)\n",
      "voisins : ([0.0, 1.0, 1.0, 0.0], [(5, 4), (4, 5), (5, 6), (6, 5)])\n",
      "gazelle, coordonnées: (5, 6)\n",
      "case vide, coordonnées: (5, 6)\n",
      "voisins : ([3.0, 0.0, 0.0, 1.0], [(5, 5), (4, 6), (5, 7), (6, 6)])\n",
      "case vide, coordonnées: (5, 7)\n",
      "voisins : ([1.0, 0.0, 0.0, 1.0], [(5, 6), (4, 7), (5, 8), (6, 7)])\n",
      "case vide, coordonnées: (5, 8)\n",
      "voisins : ([0.0, 0.0, 1.0, 0.0], [(5, 7), (4, 8), (5, 9), (6, 8)])\n",
      "gazelle, coordonnées: (5, 9)\n",
      "case vide, coordonnées: (5, 9)\n",
      "voisins : ([1.0, 0.0, 0.0], [(4, 9), (5, 8), (6, 9)])\n",
      "case vide, coordonnées: (6, 0)\n",
      "voisins : ([1.0, 1.0, 0.0], [(5, 0), (7, 0), (6, 1)])\n",
      "case vide, coordonnées: (6, 1)\n",
      "voisins : ([0.0, 1.0, 0.0, 1.0], [(6, 0), (5, 1), (6, 2), (7, 1)])\n",
      "case vide, coordonnées: (6, 2)\n",
      "voisins : ([0.0, 2.0, 0.0, 1.0], [(6, 1), (5, 2), (6, 3), (7, 2)])\n",
      "case vide, coordonnées: (6, 3)\n",
      "voisins : ([0.0, 0.0, 0.0, 1.0], [(6, 2), (5, 3), (6, 4), (7, 3)])\n",
      "case vide, coordonnées: (6, 4)\n",
      "voisins : ([0.0, 0.0, 0.0, 3.0], [(6, 3), (5, 4), (6, 5), (7, 4)])\n",
      "case vide, coordonnées: (6, 5)\n",
      "voisins : ([0.0, 3.0, 1.0, 0.0], [(6, 4), (5, 5), (6, 6), (7, 5)])\n",
      "gazelle, coordonnées: (6, 6)\n",
      "case vide, coordonnées: (6, 6)\n",
      "voisins : ([0.0, 1.0, 1.0, 1.0], [(6, 5), (5, 6), (6, 7), (7, 6)])\n",
      "gazelle, coordonnées: (6, 7)\n",
      "case vide, coordonnées: (6, 7)\n",
      "voisins : ([1.0, 0.0, 0.0, 1.0], [(6, 6), (5, 7), (6, 8), (7, 7)])\n",
      "case vide, coordonnées: (6, 8)\n",
      "voisins : ([1.0, 0.0, 0.0, 0.0], [(6, 7), (5, 8), (6, 9), (7, 8)])\n",
      "case vide, coordonnées: (6, 9)\n",
      "voisins : ([1.0, 0.0, 1.0], [(5, 9), (6, 8), (7, 9)])\n",
      "gazelle, coordonnées: (7, 0)\n",
      "case vide, coordonnées: (7, 0)\n",
      "voisins : ([0.0, 0.0, 1.0], [(6, 0), (8, 0), (7, 1)])\n",
      "gazelle, coordonnées: (7, 1)\n",
      "case vide, coordonnées: (7, 1)\n",
      "voisins : ([1.0, 0.0, 1.0, 0.0], [(7, 0), (6, 1), (7, 2), (8, 1)])\n",
      "gazelle, coordonnées: (7, 2)\n",
      "case vide, coordonnées: (7, 2)\n",
      "voisins : ([1.0, 0.0, 1.0, 0.0], [(7, 1), (6, 2), (7, 3), (8, 2)])\n",
      "gazelle, coordonnées: (7, 3)\n",
      "case vide, coordonnées: (7, 3)\n",
      "voisins : ([1.0, 0.0, 3.0, 1.0], [(7, 2), (6, 3), (7, 4), (8, 3)])\n",
      "lionne, coordonnées: (7, 4)\n",
      "voisins : ([1.0, 0.0, 0.0, 0.0], [(7, 3), (6, 4), (7, 5), (8, 4)])\n",
      "case vide, coordonnées: (7, 5)\n",
      "voisins : ([3.0, 0.0, 1.0, 1.0], [(7, 4), (6, 5), (7, 6), (8, 5)])\n",
      "gazelle, coordonnées: (7, 6)\n",
      "case vide, coordonnées: (7, 6)\n",
      "voisins : ([0.0, 1.0, 1.0, 1.0], [(7, 5), (6, 6), (7, 7), (8, 6)])\n",
      "gazelle, coordonnées: (7, 7)\n",
      "case vide, coordonnées: (7, 7)\n",
      "voisins : ([1.0, 1.0, 0.0, 1.0], [(7, 6), (6, 7), (7, 8), (8, 7)])\n",
      "case vide, coordonnées: (7, 8)\n",
      "voisins : ([1.0, 0.0, 1.0, 1.0], [(7, 7), (6, 8), (7, 9), (8, 8)])\n",
      "gazelle, coordonnées: (7, 9)\n",
      "case vide, coordonnées: (7, 9)\n",
      "voisins : ([0.0, 0.0, 0.0], [(6, 9), (7, 8), (8, 9)])\n",
      "case vide, coordonnées: (8, 0)\n",
      "voisins : ([1.0, 2.0, 0.0], [(7, 0), (9, 0), (8, 1)])\n",
      "case vide, coordonnées: (8, 1)\n",
      "voisins : ([0.0, 1.0, 0.0, 3.0], [(8, 0), (7, 1), (8, 2), (9, 1)])\n",
      "case vide, coordonnées: (8, 2)\n",
      "voisins : ([0.0, 1.0, 1.0, 0.0], [(8, 1), (7, 2), (8, 3), (9, 2)])\n",
      "gazelle, coordonnées: (8, 3)\n",
      "case vide, coordonnées: (8, 3)\n",
      "voisins : ([0.0, 1.0, 0.0, 1.0], [(8, 2), (7, 3), (8, 4), (9, 3)])\n",
      "case vide, coordonnées: (8, 4)\n",
      "voisins : ([1.0, 3.0, 1.0, 1.0], [(8, 3), (7, 4), (8, 5), (9, 4)])\n",
      "gazelle, coordonnées: (8, 5)\n",
      "case vide, coordonnées: (8, 5)\n",
      "voisins : ([0.0, 0.0, 1.0, 1.0], [(8, 4), (7, 5), (8, 6), (9, 5)])\n",
      "gazelle, coordonnées: (8, 6)\n",
      "case vide, coordonnées: (8, 6)\n",
      "voisins : ([1.0, 1.0, 1.0, 1.0], [(8, 5), (7, 6), (8, 7), (9, 6)])\n",
      "gazelle, coordonnées: (8, 7)\n",
      "case vide, coordonnées: (8, 7)\n",
      "voisins : ([1.0, 1.0, 1.0, 2.0], [(8, 6), (7, 7), (8, 8), (9, 7)])\n",
      "gazelle, coordonnées: (8, 8)\n",
      "case vide, coordonnées: (8, 8)\n",
      "voisins : ([1.0, 0.0, 0.0, 0.0], [(8, 7), (7, 8), (8, 9), (9, 8)])\n",
      "case vide, coordonnées: (8, 9)\n",
      "voisins : ([1.0, 1.0, 0.0], [(7, 9), (8, 8), (9, 9)])\n",
      "lion, coordonnées: (9, 0)\n",
      "case vide, coordonnées: (9, 0)\n",
      "voisins : ([3.0, 0.0], [(9, 1), (8, 0)])\n",
      "lionne, coordonnées: (9, 1)\n",
      "voisins : ([0.0, 2.0, 0.0], [(8, 1), (9, 0), (9, 2)])\n",
      "case vide, coordonnées: (9, 2)\n",
      "voisins : ([0.0, 3.0, 1.0], [(8, 2), (9, 1), (9, 3)])\n",
      "gazelle, coordonnées: (9, 3)\n",
      "case vide, coordonnées: (9, 3)\n",
      "voisins : ([1.0, 0.0, 1.0], [(8, 3), (9, 2), (9, 4)])\n",
      "gazelle, coordonnées: (9, 4)\n",
      "case vide, coordonnées: (9, 4)\n",
      "voisins : ([0.0, 1.0, 1.0], [(8, 4), (9, 3), (9, 5)])\n",
      "gazelle, coordonnées: (9, 5)\n",
      "case vide, coordonnées: (9, 5)\n",
      "voisins : ([1.0, 1.0, 1.0], [(8, 5), (9, 4), (9, 6)])\n",
      "gazelle, coordonnées: (9, 6)\n",
      "case vide, coordonnées: (9, 6)\n",
      "voisins : ([1.0, 1.0, 2.0], [(8, 6), (9, 5), (9, 7)])\n",
      "lion, coordonnées: (9, 7)\n",
      "case vide, coordonnées: (9, 7)\n",
      "voisins : ([1.0, 1.0, 0.0], [(8, 7), (9, 6), (9, 8)])\n",
      "case vide, coordonnées: (9, 8)\n",
      "voisins : ([1.0, 2.0, 0.0], [(8, 8), (9, 7), (9, 9)])\n",
      "case vide, coordonnées: (9, 9)\n",
      "voisins : ([0.0, 0.0], [(8, 9), (9, 8)])\n"
     ]
    }
   ],
   "source": [
    "scan_matrice()"
   ]
  },
  {
   "cell_type": "code",
   "execution_count": 272,
   "metadata": {
    "collapsed": false
   },
   "outputs": [
    {
     "data": {
      "text/plain": [
       "([0.0, 1.0], [(1, 0), (0, 1)])"
      ]
     },
     "execution_count": 272,
     "metadata": {},
     "output_type": "execute_result"
    }
   ],
   "source": [
    "voisins2(0,0)"
   ]
  },
  {
   "cell_type": "code",
   "execution_count": 273,
   "metadata": {
    "collapsed": true
   },
   "outputs": [],
   "source": [
    "#premier passage des lions/meutes de lionnes sur les gazelles\n",
    "def rencontre2():\n",
    "\n",
    "    for k in range (0,a) : \n",
    "        for i in range (0,b) : \n",
    "            if d[k,i] == 1. :\n",
    "                L = voisins(k,i)\n",
    "                print(L)\n",
    "                CoordL = voisins2(k,i)\n",
    "                print(CoordL)\n",
    "                while L != [] :\n",
    "                    if L[0] == 2. :\n",
    "                        d[k,i] = 2.\n",
    "                        L.remove(L[0])\n",
    "                        d[CoordL[0]] = 0.\n",
    "                        CoordL.remove(CoordL[0])\n",
    "                    if L[0] == 3. :\n",
    "                        d[k,i] = 3.\n",
    "                        L.remove(L[0])\n",
    "                        d[CoordL[0]] = 0.\n",
    "                        CoordL.remove(CoordL[0])\n",
    "                    if L[0] == 0. :\n",
    "                        d[k,i] = 0.\n",
    "                        d[CoordL[0]] = 1.\n",
    "                        CoordL.remove(CoordL[0])\n",
    "                        \n",
    "    return d"
   ]
  },
  {
   "cell_type": "code",
   "execution_count": 274,
   "metadata": {
    "collapsed": false
   },
   "outputs": [],
   "source": [
    "#premier passage des lions/meutes de lionnes sur les gazelles\n",
    "def rencontre():\n",
    "    \n",
    "    for k in range (0,a) : \n",
    "        for i in range (0,b) : \n",
    "            g = voisins3(k,i)\n",
    "            #print (g)\n",
    "            if d[k,i] == 1. :\n",
    "                    if g[0] == 2. :\n",
    "                        d[k,i] = 2.\n",
    "                        d[g[1]] = 0.\n",
    "                    if g[0] == 3. :\n",
    "                        d[k,i] = 3.\n",
    "                        d[g[1]] = 0.\n",
    "                    if g[0] == 0. :\n",
    "                        d[k,i] = 0.\n",
    "                        d[g[1]] = 1.\n",
    "\n",
    "            elif d[k,i] == 2. :\n",
    "                    if g == 1. :\n",
    "                        d[k,i] = 0.\n",
    "                        d[g[1]] = 2.\n",
    "                    if g == 0. :\n",
    "                        d[k,i] = 0.\n",
    "                        d[g[1]] = 2.\n",
    "                    \n",
    "            \n",
    "            elif d[k,i] == 3. :\n",
    "                    if g == 1. :\n",
    "                        d[k,i] = 0.\n",
    "                        d[g[1]] = 3.\n",
    "                    if g == 0. :\n",
    "                        d[k,i] = 0.\n",
    "                        d[g[1]] = 3.\n",
    "                    \n",
    "                        \n",
    "    print(\"nombre de gazelles :\",len(np.where(d == 1.)[0]))\n",
    "    print(\"nombre de meutes de lionnes :\",len(np.where(d == 2.)[0]))\n",
    "    print(\"nombre de lions :\",len(np.where(d == 3.)[0]))\n",
    "    return d"
   ]
  },
  {
   "cell_type": "code",
   "execution_count": 275,
   "metadata": {
    "collapsed": false
   },
   "outputs": [
    {
     "data": {
      "text/plain": [
       "array([[ 1.,  1.,  1.,  0.,  1.,  1.,  0.,  0.,  1.,  1.],\n",
       "       [ 0.,  0.,  0.,  3.,  0.,  1.,  1.,  0.,  0.,  0.],\n",
       "       [ 1.,  3.,  0.,  3.,  0.,  3.,  1.,  1.,  1.,  3.],\n",
       "       [ 1.,  1.,  0.,  1.,  2.,  0.,  1.,  1.,  1.,  0.],\n",
       "       [ 1.,  1.,  1.,  1.,  1.,  1.,  0.,  0.,  0.,  1.],\n",
       "       [ 1.,  1.,  2.,  0.,  0.,  3.,  1.,  0.,  0.,  1.],\n",
       "       [ 0.,  0.,  0.,  0.,  0.,  0.,  1.,  1.,  0.,  0.],\n",
       "       [ 1.,  1.,  1.,  1.,  3.,  0.,  1.,  1.,  0.,  1.],\n",
       "       [ 0.,  0.,  0.,  1.,  0.,  1.,  1.,  1.,  1.,  0.],\n",
       "       [ 2.,  3.,  0.,  1.,  1.,  1.,  1.,  2.,  0.,  0.]])"
      ]
     },
     "execution_count": 275,
     "metadata": {},
     "output_type": "execute_result"
    }
   ],
   "source": [
    "d"
   ]
  },
  {
   "cell_type": "code",
   "execution_count": 286,
   "metadata": {
    "collapsed": false
   },
   "outputs": [
    {
     "data": {
      "text/plain": [
       "48"
      ]
     },
     "execution_count": 286,
     "metadata": {},
     "output_type": "execute_result"
    }
   ],
   "source": [
    "len(np.where(d == 1.)[0])"
   ]
  },
  {
   "cell_type": "code",
   "execution_count": 287,
   "metadata": {
    "collapsed": false
   },
   "outputs": [
    {
     "data": {
      "text/plain": [
       "4"
      ]
     },
     "execution_count": 287,
     "metadata": {},
     "output_type": "execute_result"
    }
   ],
   "source": [
    "len(np.where(d == 2.)[0])"
   ]
  },
  {
   "cell_type": "code",
   "execution_count": 288,
   "metadata": {
    "collapsed": false
   },
   "outputs": [
    {
     "data": {
      "text/plain": [
       "8"
      ]
     },
     "execution_count": 288,
     "metadata": {},
     "output_type": "execute_result"
    }
   ],
   "source": [
    "len(np.where(d == 3.)[0])"
   ]
  },
  {
   "cell_type": "code",
   "execution_count": 279,
   "metadata": {
    "collapsed": true
   },
   "outputs": [],
   "source": [
    "def boucle(jours) :\n",
    "    for i in range (jours):\n",
    "        rencontre()\n",
    "        print(d)\n",
    "    return d"
   ]
  },
  {
   "cell_type": "code",
   "execution_count": 285,
   "metadata": {
    "collapsed": false
   },
   "outputs": [
    {
     "data": {
      "text/plain": [
       "array([[ 1.,  1.,  1.,  1.,  1.,  1.,  1.,  0.,  1.,  1.],\n",
       "       [ 0.,  0.,  3.,  0.,  0.,  1.,  1.,  0.,  0.,  0.],\n",
       "       [ 1.,  0.,  0.,  0.,  3.,  0.,  1.,  1.,  1.,  0.],\n",
       "       [ 1.,  1.,  0.,  1.,  3.,  0.,  1.,  2.,  1.,  0.],\n",
       "       [ 1.,  1.,  1.,  1.,  1.,  1.,  0.,  0.,  0.,  1.],\n",
       "       [ 1.,  1.,  3.,  0.,  0.,  0.,  1.,  3.,  0.,  1.],\n",
       "       [ 0.,  0.,  0.,  0.,  0.,  0.,  1.,  1.,  0.,  0.],\n",
       "       [ 1.,  1.,  1.,  1.,  3.,  0.,  1.,  1.,  0.,  1.],\n",
       "       [ 2.,  0.,  0.,  1.,  3.,  1.,  1.,  1.,  1.,  0.],\n",
       "       [ 3.,  0.,  0.,  1.,  2.,  1.,  1.,  2.,  0.,  0.]])"
      ]
     },
     "execution_count": 285,
     "metadata": {},
     "output_type": "execute_result"
    }
   ],
   "source": [
    "d"
   ]
  },
  {
   "cell_type": "code",
   "execution_count": 310,
   "metadata": {
    "collapsed": false
   },
   "outputs": [
    {
     "name": "stdout",
     "output_type": "stream",
     "text": [
      "nombre de gazelles : 43\n",
      "nombre de meutes de lionnes : 4\n",
      "nombre de lions : 8\n",
      "[[ 1.  1.  0.  0.  0.  1.  0.  1.  0.  0.]\n",
      " [ 1.  0.  3.  0.  0.  1.  0.  0.  1.  2.]\n",
      " [ 0.  3.  0.  1.  0.  0.  3.  1.  1.  0.]\n",
      " [ 1.  1.  0.  1.  2.  0.  1.  0.  1.  1.]\n",
      " [ 1.  1.  3.  1.  1.  0.  1.  1.  1.  0.]\n",
      " [ 1.  0.  3.  0.  0.  0.  3.  1.  0.  0.]\n",
      " [ 1.  1.  0.  0.  0.  1.  1.  0.  1.  1.]\n",
      " [ 0.  1.  1.  1.  3.  0.  0.  1.  0.  0.]\n",
      " [ 0.  0.  1.  1.  1.  0.  1.  1.  1.  0.]\n",
      " [ 3.  0.  0.  0.  2.  1.  1.  2.  0.  0.]]\n",
      "nombre de gazelles : 35\n",
      "nombre de meutes de lionnes : 4\n",
      "nombre de lions : 8\n",
      "[[ 1.  0.  3.  0.  0.  1.  0.  1.  0.  0.]\n",
      " [ 0.  0.  0.  0.  0.  1.  0.  1.  0.  0.]\n",
      " [ 1.  0.  1.  0.  0.  0.  1.  3.  0.  0.]\n",
      " [ 1.  3.  0.  1.  2.  0.  0.  1.  1.  2.]\n",
      " [ 1.  3.  0.  1.  1.  0.  1.  0.  1.  0.]\n",
      " [ 1.  0.  3.  0.  0.  0.  0.  3.  0.  1.]\n",
      " [ 1.  1.  0.  0.  1.  0.  0.  1.  0.  0.]\n",
      " [ 0.  1.  1.  3.  0.  1.  0.  1.  1.  0.]\n",
      " [ 0.  0.  0.  1.  0.  1.  1.  1.  0.  1.]\n",
      " [ 3.  1.  0.  0.  2.  1.  0.  2.  0.  0.]]\n",
      "nombre de gazelles : 29\n",
      "nombre de meutes de lionnes : 4\n",
      "nombre de lions : 8\n",
      "[[ 1.  0.  3.  0.  0.  1.  0.  0.  1.  0.]\n",
      " [ 0.  0.  0.  0.  1.  0.  1.  0.  0.  0.]\n",
      " [ 1.  1.  0.  0.  0.  0.  1.  0.  0.  0.]\n",
      " [ 3.  0.  0.  1.  2.  0.  0.  0.  3.  2.]\n",
      " [ 3.  0.  1.  0.  0.  0.  0.  0.  0.  1.]\n",
      " [ 1.  0.  3.  0.  1.  1.  0.  1.  3.  0.]\n",
      " [ 1.  0.  1.  0.  1.  0.  0.  0.  0.  0.]\n",
      " [ 0.  0.  0.  3.  0.  1.  0.  1.  1.  0.]\n",
      " [ 3.  1.  1.  0.  0.  1.  1.  1.  1.  0.]\n",
      " [ 0.  1.  0.  0.  2.  1.  0.  2.  0.  0.]]\n",
      "nombre de gazelles : 24\n",
      "nombre de meutes de lionnes : 4\n",
      "nombre de lions : 8\n",
      "[[ 1.  0.  3.  0.  1.  0.  1.  0.  0.  1.]\n",
      " [ 0.  0.  0.  0.  0.  0.  0.  0.  0.  0.]\n",
      " [ 3.  1.  0.  0.  2.  1.  0.  0.  0.  0.]\n",
      " [ 0.  0.  1.  0.  0.  0.  0.  0.  3.  2.]\n",
      " [ 3.  0.  3.  0.  0.  0.  0.  1.  0.  0.]\n",
      " [ 1.  0.  0.  0.  1.  1.  0.  0.  0.  3.]\n",
      " [ 1.  0.  1.  0.  0.  0.  0.  1.  0.  0.]\n",
      " [ 0.  0.  0.  0.  3.  1.  0.  1.  1.  0.]\n",
      " [ 3.  1.  0.  0.  1.  1.  1.  0.  1.  0.]\n",
      " [ 0.  0.  1.  0.  2.  1.  0.  2.  0.  0.]]\n",
      "nombre de gazelles : 18\n",
      "nombre de meutes de lionnes : 4\n",
      "nombre de lions : 8\n",
      "[[ 0.  1.  3.  0.  0.  0.  0.  0.  1.  0.]\n",
      " [ 0.  1.  0.  1.  0.  0.  1.  0.  0.  0.]\n",
      " [ 3.  0.  0.  0.  0.  2.  0.  0.  0.  0.]\n",
      " [ 0.  0.  3.  0.  0.  0.  0.  0.  3.  2.]\n",
      " [ 0.  0.  0.  0.  0.  1.  1.  0.  0.  0.]\n",
      " [ 3.  0.  0.  0.  1.  0.  0.  0.  0.  3.]\n",
      " [ 0.  1.  0.  0.  0.  1.  1.  0.  0.  0.]\n",
      " [ 1.  1.  0.  0.  0.  0.  0.  1.  1.  0.]\n",
      " [ 3.  0.  0.  0.  3.  1.  0.  0.  1.  0.]\n",
      " [ 0.  1.  0.  0.  2.  0.  0.  2.  0.  0.]]\n",
      "nombre de gazelles : 16\n",
      "nombre de meutes de lionnes : 4\n",
      "nombre de lions : 8\n",
      "[[ 1.  0.  3.  0.  0.  0.  1.  0.  0.  0.]\n",
      " [ 0.  1.  1.  0.  0.  0.  0.  0.  1.  0.]\n",
      " [ 3.  0.  0.  0.  0.  2.  0.  0.  0.  0.]\n",
      " [ 0.  0.  3.  0.  0.  0.  0.  0.  3.  2.]\n",
      " [ 0.  0.  0.  0.  1.  0.  0.  0.  0.  0.]\n",
      " [ 3.  0.  0.  0.  1.  1.  0.  0.  0.  3.]\n",
      " [ 1.  1.  0.  0.  0.  1.  0.  0.  0.  0.]\n",
      " [ 0.  0.  0.  0.  0.  1.  0.  1.  1.  0.]\n",
      " [ 3.  0.  0.  3.  0.  0.  0.  0.  1.  0.]\n",
      " [ 0.  0.  1.  0.  0.  2.  0.  2.  0.  0.]]\n",
      "nombre de gazelles : 16\n",
      "nombre de meutes de lionnes : 4\n",
      "nombre de lions : 8\n",
      "[[ 1.  1.  3.  0.  0.  1.  0.  0.  0.  0.]\n",
      " [ 0.  1.  0.  0.  0.  0.  0.  1.  0.  0.]\n",
      " [ 3.  0.  0.  0.  0.  2.  0.  0.  0.  0.]\n",
      " [ 0.  0.  3.  0.  1.  0.  0.  0.  3.  2.]\n",
      " [ 0.  0.  0.  0.  0.  1.  0.  0.  0.  0.]\n",
      " [ 3.  0.  0.  0.  0.  0.  0.  0.  0.  3.]\n",
      " [ 0.  1.  0.  1.  0.  1.  0.  0.  0.  0.]\n",
      " [ 1.  0.  0.  0.  0.  0.  1.  0.  1.  0.]\n",
      " [ 3.  0.  0.  3.  0.  0.  0.  1.  1.  0.]\n",
      " [ 0.  1.  0.  0.  0.  2.  0.  2.  0.  0.]]\n",
      "nombre de gazelles : 13\n",
      "nombre de meutes de lionnes : 4\n",
      "nombre de lions : 8\n",
      "[[ 0.  3.  0.  0.  1.  0.  0.  0.  0.  0.]\n",
      " [ 1.  1.  0.  0.  0.  0.  0.  1.  0.  0.]\n",
      " [ 3.  0.  0.  0.  0.  2.  0.  0.  0.  0.]\n",
      " [ 0.  0.  3.  0.  0.  0.  0.  0.  3.  2.]\n",
      " [ 0.  0.  0.  1.  0.  0.  0.  0.  0.  0.]\n",
      " [ 3.  0.  0.  0.  0.  1.  0.  0.  0.  3.]\n",
      " [ 0.  0.  0.  1.  0.  0.  0.  0.  0.  1.]\n",
      " [ 3.  1.  0.  0.  0.  0.  0.  1.  1.  0.]\n",
      " [ 0.  1.  0.  3.  0.  0.  0.  2.  1.  0.]\n",
      " [ 0.  0.  0.  0.  0.  2.  0.  0.  0.  0.]]\n",
      "nombre de gazelles : 9\n",
      "nombre de meutes de lionnes : 4\n",
      "nombre de lions : 8\n",
      "[[ 0.  0.  0.  0.  0.  1.  0.  0.  1.  0.]\n",
      " [ 3.  3.  0.  0.  0.  0.  0.  0.  0.  0.]\n",
      " [ 0.  0.  0.  0.  0.  2.  0.  0.  0.  0.]\n",
      " [ 0.  0.  3.  1.  0.  0.  0.  0.  3.  2.]\n",
      " [ 0.  0.  0.  0.  0.  0.  0.  0.  0.  0.]\n",
      " [ 3.  0.  0.  0.  1.  0.  0.  0.  0.  3.]\n",
      " [ 0.  0.  1.  0.  0.  1.  0.  0.  1.  0.]\n",
      " [ 3.  0.  0.  0.  0.  0.  0.  2.  1.  0.]\n",
      " [ 0.  0.  3.  0.  0.  0.  0.  0.  1.  0.]\n",
      " [ 0.  0.  0.  0.  0.  2.  0.  0.  0.  0.]]\n",
      "nombre de gazelles : 9\n",
      "nombre de meutes de lionnes : 4\n",
      "nombre de lions : 8\n",
      "[[ 0.  0.  0.  0.  0.  1.  0.  0.  0.  0.]\n",
      " [ 3.  3.  0.  0.  0.  0.  0.  0.  1.  0.]\n",
      " [ 0.  0.  0.  0.  0.  2.  0.  0.  0.  0.]\n",
      " [ 0.  0.  3.  0.  0.  0.  0.  0.  3.  2.]\n",
      " [ 0.  0.  0.  0.  0.  0.  0.  0.  0.  0.]\n",
      " [ 3.  0.  1.  1.  0.  1.  0.  0.  0.  3.]\n",
      " [ 0.  0.  0.  0.  0.  0.  0.  0.  1.  1.]\n",
      " [ 3.  0.  0.  0.  0.  0.  0.  2.  0.  0.]\n",
      " [ 0.  0.  3.  0.  1.  0.  0.  1.  0.  0.]\n",
      " [ 0.  0.  0.  0.  0.  2.  0.  0.  0.  0.]]\n"
     ]
    },
    {
     "data": {
      "text/plain": [
       "array([[ 0.,  0.,  0.,  0.,  0.,  1.,  0.,  0.,  0.,  0.],\n",
       "       [ 3.,  3.,  0.,  0.,  0.,  0.,  0.,  0.,  1.,  0.],\n",
       "       [ 0.,  0.,  0.,  0.,  0.,  2.,  0.,  0.,  0.,  0.],\n",
       "       [ 0.,  0.,  3.,  0.,  0.,  0.,  0.,  0.,  3.,  2.],\n",
       "       [ 0.,  0.,  0.,  0.,  0.,  0.,  0.,  0.,  0.,  0.],\n",
       "       [ 3.,  0.,  1.,  1.,  0.,  1.,  0.,  0.,  0.,  3.],\n",
       "       [ 0.,  0.,  0.,  0.,  0.,  0.,  0.,  0.,  1.,  1.],\n",
       "       [ 3.,  0.,  0.,  0.,  0.,  0.,  0.,  2.,  0.,  0.],\n",
       "       [ 0.,  0.,  3.,  0.,  1.,  0.,  0.,  1.,  0.,  0.],\n",
       "       [ 0.,  0.,  0.,  0.,  0.,  2.,  0.,  0.,  0.,  0.]])"
      ]
     },
     "execution_count": 310,
     "metadata": {},
     "output_type": "execute_result"
    }
   ],
   "source": [
    "boucle(10)"
   ]
  },
  {
   "cell_type": "code",
   "execution_count": 298,
   "metadata": {
    "collapsed": true
   },
   "outputs": [],
   "source": [
    "import numpy as np\n",
    "import matplotlib.pyplot as plt\n",
    "import matplotlib.animation as animation\n",
    "from IPython.core.display import HTML"
   ]
  },
  {
   "cell_type": "code",
   "execution_count": 325,
   "metadata": {
    "collapsed": false
   },
   "outputs": [
    {
     "data": {
      "text/plain": [
       "<matplotlib.text.Text at 0x7f9090608da0>"
      ]
     },
     "execution_count": 325,
     "metadata": {},
     "output_type": "execute_result"
    }
   ],
   "source": [
    "fig, ax = plt.subplots()\n",
    "\n",
    "shape = (10, 10)\n",
    "data = np.zeros(shape)\n",
    "im = plt.imshow(data, vmin=0.0, vmax=1.0, animated=True)\n",
    "\n",
    "ax.set_title(\"Animated image\")"
   ]
  },
  {
   "cell_type": "code",
   "execution_count": 326,
   "metadata": {
    "collapsed": false
   },
   "outputs": [],
   "source": [
    "#plt.show()\n",
    "def func(frame):\n",
    "    \n",
    "    i = np.random.randint(10)\n",
    "    j = np.random.randint(10)\n",
    "    data[i, j] = np.random.uniform()\n",
    "    \n",
    "    im.set_array(data)\n",
    "    \n",
    "    return im,"
   ]
  },
  {
   "cell_type": "code",
   "execution_count": 327,
   "metadata": {
    "collapsed": true
   },
   "outputs": [],
   "source": [
    "frames = np.arange(0, 100)"
   ]
  },
  {
   "cell_type": "code",
   "execution_count": 328,
   "metadata": {
    "collapsed": true
   },
   "outputs": [],
   "source": [
    "ani = animation.FuncAnimation(fig, func, frames=frames, repeat=False)"
   ]
  },
  {
   "cell_type": "code",
   "execution_count": 329,
   "metadata": {
    "collapsed": false
   },
   "outputs": [
    {
     "data": {
      "image/png": "[encoded data removed]",
      "text/plain": [
       "<matplotlib.figure.Figure at 0x7f909061d2e8>"
      ]
     },
     "metadata": {},
     "output_type": "display_data"
    }
   ],
   "source": [
    "#HTML(ani.to_html5_video())\n",
    "plt.show()"
   ]
  },
  {
   "cell_type": "code",
   "execution_count": null,
   "metadata": {
    "collapsed": true
   },
   "outputs": [],
   "source": []
  }
 ],
 "metadata": {
  "kernelspec": {
   "display_name": "Python 3",
   "language": "python",
   "name": "python3"
  },
  "language_info": {
   "codemirror_mode": {
    "name": "ipython",
    "version": 3
   },
   "file_extension": ".py",
   "mimetype": "text/x-python",
   "name": "python",
   "nbconvert_exporter": "python",
   "pygments_lexer": "ipython3",
   "version": "3.4.2"
  }
 },
 "nbformat": 4,
 "nbformat_minor": 0
}
