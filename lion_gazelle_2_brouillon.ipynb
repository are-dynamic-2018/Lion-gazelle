{
 "cells": [
  {
   "cell_type": "code",
   "execution_count": null,
   "metadata": {
    "collapsed": true
   },
   "outputs": [],
   "source": [
    "#premier passage des lions/meutes de lionnes sur les gazelles\n",
    "for k in range (0,a) : \n",
    "    for i in range (0,b) : \n",
    "        if d[k,i] == 1. and (voisins(k,i) == 2. or voisins(k,i) == 3.) : \n",
    "            d[k,i] = 0."
   ]
  },
  {
   "cell_type": "code",
   "execution_count": null,
   "metadata": {
    "collapsed": true
   },
   "outputs": [],
   "source": [
    "#premier passage des lions/meutes de lionnes sur les gazelles\n",
    "for k in range (0,a) : \n",
    "    for i in range (0,b) : \n",
    "        if d[k,i] == 1. and voisins(k,i) == 2. :\n",
    "            d[k,i] = 2. and voisins(k,i) = 0.\n",
    "        if d[k,i] == 1. and voisins(k,i) == 3. : \n",
    "            d[k,i] = 3  \n",
    "            voisins(k,i) = 0."
   ]
  }
 ],
 "metadata": {
  "kernelspec": {
   "display_name": "Python 3",
   "language": "python",
   "name": "python3"
  },
  "language_info": {
   "codemirror_mode": {
    "name": "ipython",
    "version": 3
   },
   "file_extension": ".py",
   "mimetype": "text/x-python",
   "name": "python",
   "nbconvert_exporter": "python",
   "pygments_lexer": "ipython3",
   "version": "3.4.2"
  }
 },
 "nbformat": 4,
 "nbformat_minor": 0
}
