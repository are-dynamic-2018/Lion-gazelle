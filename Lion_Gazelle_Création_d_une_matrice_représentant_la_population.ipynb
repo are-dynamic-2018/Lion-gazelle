{
 "cells": [
  {
   "cell_type": "code",
   "execution_count": null,
   "metadata": {
    "collapsed": true
   },
   "outputs": [],
   "source": [
    "import matplotlib"
   ]
  },
  {
   "cell_type": "code",
   "execution_count": null,
   "metadata": {
    "collapsed": true
   },
   "outputs": [],
   "source": [
    "import numpy as np"
   ]
  },
  {
   "cell_type": "code",
   "execution_count": null,
   "metadata": {
    "collapsed": true
   },
   "outputs": [],
   "source": [
    "from random import *"
   ]
  },
  {
   "cell_type": "code",
   "execution_count": null,
   "metadata": {
    "collapsed": false
   },
   "outputs": [],
   "source": [
    "#Dans la zone étudiée, on estime qu'il y a 4 fois plus de gazelles que de lions/lionnes\n",
    "#Ainsi, par exemple, sur une zone matrice de 25 \"cases\" on comptera 12 gazelles, 3 lions/lionnes et donc 10 cases vides\n",
    "#La gazelle prend comme valeur 1\n",
    "#La meute de lionne prend la valeur 2\n",
    "#Le lion prend la valeur 3\n",
    "#Une case vide prend la valeur 0"
   ]
  },
  {
   "cell_type": "code",
   "execution_count": null,
   "metadata": {
    "collapsed": false
   },
   "outputs": [],
   "source": [
    "#Création d'une matrice d composée uniquement de 0 représentant une case vide\n",
    "#matrice composée de a lignes et b colonnes (a et b étant des valeurs que l'on peut modifier directement dans le programme)\n",
    "a=10\n",
    "b=10\n",
    "d = np.zeros((a,b))\n",
    "d"
   ]
  },
  {
   "cell_type": "code",
   "execution_count": null,
   "metadata": {
    "collapsed": true
   },
   "outputs": [],
   "source": [
    "#Création d'une liste M avec toutes les positions possibles de la matrice d \n",
    "M=[]\n",
    "for k in range (0,a) : \n",
    "    for i in range (0,b) : \n",
    "        M.append([k,i])"
   ]
  },
  {
   "cell_type": "code",
   "execution_count": null,
   "metadata": {
    "collapsed": false,
    "scrolled": true
   },
   "outputs": [],
   "source": [
    "M"
   ]
  },
  {
   "cell_type": "code",
   "execution_count": null,
   "metadata": {
    "collapsed": false
   },
   "outputs": [],
   "source": [
    "indices = np.random.choice(np.arange(len(M)), a*b, replace=False)\n"
   ]
  },
  {
   "cell_type": "code",
   "execution_count": null,
   "metadata": {
    "collapsed": false
   },
   "outputs": [],
   "source": [
    "#Création d'un tableau \"positions\" représentant toutes les positions de la matrice \"d\" dans le désordre \n",
    "positions = np.array(M)[indices]"
   ]
  },
  {
   "cell_type": "code",
   "execution_count": null,
   "metadata": {
    "collapsed": false,
    "scrolled": true
   },
   "outputs": [],
   "source": [
    "positions"
   ]
  },
  {
   "cell_type": "code",
   "execution_count": 785,
   "metadata": {
    "collapsed": false
   },
   "outputs": [
    {
     "name": "stdout",
     "output_type": "stream",
     "text": [
      "[8 7]\n",
      "[0 1]\n",
      "[6 0]\n",
      "[4 6]\n",
      "[6 4]\n",
      "[7 8]\n",
      "[5 3]\n",
      "[4 5]\n",
      "[1 6]\n",
      "[5 1]\n",
      "[4 9]\n",
      "[0 0]\n",
      "[6 2]\n",
      "[1 7]\n",
      "[2 0]\n",
      "[2 6]\n",
      "[1 0]\n",
      "[7 7]\n",
      "[8 1]\n",
      "[4 1]\n",
      "[0 7]\n",
      "[0 6]\n",
      "[4 3]\n",
      "[9 8]\n",
      "[6 6]\n",
      "[0 3]\n",
      "[5 9]\n",
      "[9 5]\n",
      "[5 5]\n",
      "[2 5]\n",
      "[9 2]\n",
      "[3 3]\n",
      "[8 0]\n",
      "[8 6]\n",
      "[2 7]\n",
      "[3 5]\n",
      "[9 3]\n",
      "[5 7]\n",
      "[3 4]\n",
      "[9 7]\n",
      "[6 7]\n",
      "[3 0]\n",
      "[4 2]\n",
      "[6 5]\n",
      "[4 8]\n",
      "[1 8]\n",
      "[7 5]\n",
      "[7 3]\n",
      "[8 2]\n",
      "[7 1]\n",
      "[3 9]\n",
      "[9 6]\n",
      "[3 8]\n",
      "[9 4]\n",
      "[3 1]\n",
      "[5 6]\n",
      "[8 9]\n",
      "[7 4]\n",
      "[7 0]\n",
      "[1 1]\n",
      "[0 9]\n",
      "[2 8]\n",
      "[3 7]\n",
      "[0 2]\n",
      "[0 8]\n",
      "[6 8]\n",
      "[8 4]\n",
      "[9 9]\n",
      "[6 9]\n",
      "[8 8]\n",
      "[8 5]\n",
      "[6 3]\n",
      "[0 4]\n",
      "[2 4]\n",
      "[2 2]\n",
      "[3 2]\n",
      "[4 7]\n",
      "[5 0]\n",
      "[5 8]\n",
      "[2 9]\n",
      "[1 2]\n",
      "[4 0]\n",
      "[6 1]\n",
      "[1 3]\n",
      "[2 3]\n",
      "[2 1]\n",
      "[7 9]\n",
      "[8 3]\n",
      "[9 0]\n",
      "[4 4]\n",
      "[1 9]\n",
      "[3 6]\n",
      "[9 1]\n",
      "[5 4]\n",
      "[5 2]\n",
      "[1 4]\n",
      "[0 5]\n",
      "[1 5]\n",
      "[7 6]\n",
      "[7 2]\n",
      "En [0 1] on a mis une gazelle\n",
      "En [6 0] on a mis une gazelle\n",
      "En [4 6] on a mis une gazelle\n",
      "En [7 8] on a mis une gazelle\n",
      "En [5 3] on a mis une gazelle\n",
      "En [4 5] on a mis une gazelle\n",
      "En [5 1] on a mis une gazelle\n",
      "En [0 0] on a mis une gazelle\n",
      "En [1 0] on a mis une gazelle\n",
      "En [7 7] on a mis une gazelle\n",
      "En [8 1] on a mis une gazelle\n",
      "En [4 1] on a mis une gazelle\n",
      "En [4 3] on a mis une gazelle\n",
      "En [9 8] on a mis une gazelle\n",
      "En [6 6] on a mis une gazelle\n",
      "En [9 5] on a mis une gazelle\n",
      "En [5 5] on a mis une gazelle\n",
      "En [9 2] on a mis une gazelle\n",
      "En [8 0] on a mis une gazelle\n",
      "En [8 6] on a mis une gazelle\n",
      "En [5 7] on a mis une gazelle\n",
      "En [9 7] on a mis une gazelle\n",
      "En [6 7] on a mis une gazelle\n",
      "En [3 0] on a mis une gazelle\n",
      "En [4 2] on a mis une gazelle\n",
      "En [6 5] on a mis une gazelle\n",
      "En [4 8] on a mis une gazelle\n",
      "En [7 5] on a mis une gazelle\n",
      "En [7 3] on a mis une gazelle\n"
     ]
    }
   ],
   "source": [
    "#On remplace maintenant dans la matrice d, certaines cases vides par une case représentant une gazelle dont la valeur est\n",
    "#égale à 1. On estime qu'il faut remplir la matrice à 48% de gazelles\n",
    "n = len(positions)\n",
    "c=0\n",
    "for k in range (0,n) :\n",
    "    position = positions[k]\n",
    "    print(position)\n",
    "    value = d[position[0],position[1]]\n",
    "    if value==1 : \n",
    "        c=c+1\n",
    "q=0\n",
    "while c<0.48*n :\n",
    "    position = positions[q]\n",
    "    value = d[position[0],position[1]]\n",
    "    if value==1 : \n",
    "        q=q+1\n",
    "    else : \n",
    "        d[position[0],position[1]] = 1\n",
    "        print(\"En {} on a mis une gazelle\".format(position))\n",
    "        c = c+1\n",
    "        q=q+1"
   ]
  },
  {
   "cell_type": "code",
   "execution_count": 786,
   "metadata": {
    "collapsed": false,
    "scrolled": true
   },
   "outputs": [
    {
     "name": "stdout",
     "output_type": "stream",
     "text": [
      "[8 7]\n",
      "[0 1]\n",
      "[6 0]\n",
      "[4 6]\n",
      "[6 4]\n",
      "[7 8]\n",
      "[5 3]\n",
      "[4 5]\n",
      "[1 6]\n",
      "[5 1]\n",
      "[4 9]\n",
      "[0 0]\n",
      "[6 2]\n",
      "[1 7]\n",
      "[2 0]\n",
      "[2 6]\n",
      "[1 0]\n",
      "[7 7]\n",
      "[8 1]\n",
      "[4 1]\n",
      "[0 7]\n",
      "[0 6]\n",
      "[4 3]\n",
      "[9 8]\n",
      "[6 6]\n",
      "[0 3]\n",
      "[5 9]\n",
      "[9 5]\n",
      "[5 5]\n",
      "[2 5]\n",
      "[9 2]\n",
      "[3 3]\n",
      "[8 0]\n",
      "[8 6]\n",
      "[2 7]\n",
      "[3 5]\n",
      "[9 3]\n",
      "[5 7]\n",
      "[3 4]\n",
      "[9 7]\n",
      "[6 7]\n",
      "[3 0]\n",
      "[4 2]\n",
      "[6 5]\n",
      "[4 8]\n",
      "[1 8]\n",
      "[7 5]\n",
      "[7 3]\n",
      "[8 2]\n",
      "[7 1]\n",
      "[3 9]\n",
      "[9 6]\n",
      "[3 8]\n",
      "[9 4]\n",
      "[3 1]\n",
      "[5 6]\n",
      "[8 9]\n",
      "[7 4]\n",
      "[7 0]\n",
      "[1 1]\n",
      "[0 9]\n",
      "[2 8]\n",
      "[3 7]\n",
      "[0 2]\n",
      "[0 8]\n",
      "[6 8]\n",
      "[8 4]\n",
      "[9 9]\n",
      "[6 9]\n",
      "[8 8]\n",
      "[8 5]\n",
      "[6 3]\n",
      "[0 4]\n",
      "[2 4]\n",
      "[2 2]\n",
      "[3 2]\n",
      "[4 7]\n",
      "[5 0]\n",
      "[5 8]\n",
      "[2 9]\n",
      "[1 2]\n",
      "[4 0]\n",
      "[6 1]\n",
      "[1 3]\n",
      "[2 3]\n",
      "[2 1]\n",
      "[7 9]\n",
      "[8 3]\n",
      "[9 0]\n",
      "[4 4]\n",
      "[1 9]\n",
      "[3 6]\n",
      "[9 1]\n",
      "[5 4]\n",
      "[5 2]\n",
      "[1 4]\n",
      "[0 5]\n",
      "[1 5]\n",
      "[7 6]\n",
      "[7 2]\n"
     ]
    }
   ],
   "source": [
    "#On remplace maintenant quelques cases vide par une case représenant les lions. \n",
    "#On estime qu'ils sont présents à 4%\n",
    "n = len(positions)\n",
    "x=0\n",
    "for k in range (0,n) :\n",
    "    position = positions[k]\n",
    "    print(position)\n",
    "    value = d[position[0],position[1]]\n",
    "    if value==2 : \n",
    "        x=x+1\n",
    "q=0\n",
    "while x<0.04*n :\n",
    "    position = positions[q]\n",
    "    value = d[position[0],position[1]]\n",
    "    if value==2 : \n",
    "        q=q+1\n",
    "    elif value == 1 :\n",
    "        q=q+1\n",
    "    else : \n",
    "        d[position[0],position[1]] = 2\n",
    "        print(\"En {} on a mis un lion\".format(position))\n",
    "        x = x+1\n",
    "        q=q+1"
   ]
  },
  {
   "cell_type": "code",
   "execution_count": 787,
   "metadata": {
    "collapsed": false
   },
   "outputs": [
    {
     "name": "stdout",
     "output_type": "stream",
     "text": [
      "En [3 8] on a mis une lionne\n",
      "En [9 4] on a mis une lionne\n",
      "En [3 1] on a mis une lionne\n",
      "En [5 6] on a mis une lionne\n",
      "En [8 9] on a mis une lionne\n",
      "En [7 4] on a mis une lionne\n",
      "En [7 0] on a mis une lionne\n",
      "En [1 1] on a mis une lionne\n"
     ]
    }
   ],
   "source": [
    "#On rajoute maintenant les meutes de lionnes éstimées à 8%\n",
    "n = len(positions)\n",
    "y=0\n",
    "for k in range (0,n) :\n",
    "    position = positions[k]\n",
    "    value = d[position[0],position[1]]\n",
    "    if value==3 : \n",
    "        y=y+1\n",
    "q=0\n",
    "while y<0.08*n :\n",
    "    position = positions[q]\n",
    "    value = d[position[0],position[1]]\n",
    "    if value == 3 : \n",
    "        q=q+1\n",
    "    elif value == 1 :\n",
    "        q=q+1\n",
    "    elif value == 2 :\n",
    "        q=q+1\n",
    "    else : \n",
    "        d[position[0],position[1]] = 3\n",
    "        print(\"En {} on a mis une lionne\".format(position))\n",
    "        y = y+1\n",
    "        q=q+1"
   ]
  },
  {
   "cell_type": "code",
   "execution_count": 788,
   "metadata": {
    "collapsed": false
   },
   "outputs": [
    {
     "data": {
      "text/plain": [
       "array([[ 1.,  1.,  0.,  1.,  0.,  0.,  1.,  1.,  0.,  0.],\n",
       "       [ 1.,  3.,  0.,  0.,  0.,  0.,  1.,  1.,  1.,  0.],\n",
       "       [ 1.,  0.,  0.,  0.,  0.,  1.,  1.,  1.,  0.,  0.],\n",
       "       [ 1.,  3.,  0.,  1.,  1.,  1.,  0.,  0.,  3.,  2.],\n",
       "       [ 0.,  1.,  1.,  1.,  0.,  1.,  1.,  0.,  1.,  1.],\n",
       "       [ 0.,  1.,  0.,  1.,  0.,  1.,  3.,  1.,  0.,  1.],\n",
       "       [ 1.,  0.,  1.,  0.,  1.,  1.,  1.,  1.,  0.,  0.],\n",
       "       [ 3.,  2.,  0.,  1.,  3.,  1.,  0.,  1.,  1.,  0.],\n",
       "       [ 1.,  1.,  2.,  0.,  0.,  0.,  1.,  1.,  0.,  3.],\n",
       "       [ 0.,  0.,  1.,  1.,  3.,  1.,  2.,  1.,  1.,  0.]])"
      ]
     },
     "execution_count": 788,
     "metadata": {},
     "output_type": "execute_result"
    }
   ],
   "source": [
    "#On affiche maintenant la matrice d avec toute la population placée aléatoirement. \n",
    "d"
   ]
  },
  {
   "cell_type": "code",
   "execution_count": 789,
   "metadata": {
    "collapsed": false
   },
   "outputs": [
    {
     "data": {
      "text/plain": [
       "100"
      ]
     },
     "execution_count": 789,
     "metadata": {},
     "output_type": "execute_result"
    }
   ],
   "source": [
    "d.size"
   ]
  },
  {
   "cell_type": "code",
   "execution_count": 790,
   "metadata": {
    "collapsed": false
   },
   "outputs": [
    {
     "data": {
      "text/plain": [
       "48"
      ]
     },
     "execution_count": 790,
     "metadata": {},
     "output_type": "execute_result"
    }
   ],
   "source": [
    "len(np.where(d == 1.)[0])"
   ]
  },
  {
   "cell_type": "code",
   "execution_count": 791,
   "metadata": {
    "collapsed": false
   },
   "outputs": [
    {
     "data": {
      "text/plain": [
       "4"
      ]
     },
     "execution_count": 791,
     "metadata": {},
     "output_type": "execute_result"
    }
   ],
   "source": [
    "len(np.where(d == 2.)[0])"
   ]
  },
  {
   "cell_type": "code",
   "execution_count": 792,
   "metadata": {
    "collapsed": false
   },
   "outputs": [
    {
     "data": {
      "text/plain": [
       "8"
      ]
     },
     "execution_count": 792,
     "metadata": {},
     "output_type": "execute_result"
    }
   ],
   "source": [
    "len(np.where(d == 3.)[0])"
   ]
  },
  {
   "cell_type": "code",
   "execution_count": 793,
   "metadata": {
    "collapsed": false
   },
   "outputs": [],
   "source": [
    "#On s'interesse aux voisins de chaque case\n",
    "def voisins(x,y) : \n",
    "    \"\"\"Renvoie aléatoirement un des voisins de (x,y) dans la matrice d en faisant attention aux coins/bords\"\"\"\n",
    "    L = []\n",
    "\n",
    "    #coin supérieur gauche\n",
    "    if x == 0 and y == 0 : \n",
    "        L.append(d[(x+1),y])\n",
    "        L.append(d[x,(y+1)])\n",
    "    \n",
    "    #coin supérieur droit\n",
    "    elif x == 0 and y == (b-1) : \n",
    "        L.append(d[(x+1),y])\n",
    "        L.append(d[x,(y-1)])\n",
    "    \n",
    "    #coin inférieur gauche\n",
    "    elif x == (a-1) and y == 0 : \n",
    "        L.append(d[x,(y+1)])\n",
    "        L.append(d[(x-1),y])\n",
    "    \n",
    "    #coin inférieur droit\n",
    "    elif x == (a-1) and y == (b-1) : \n",
    "        L.append(d[(x-1),y])\n",
    "        L.append(d[x,(y-1)])\n",
    "    \n",
    "    #ligne du haut\n",
    "    elif x == 0 and y != 0:\n",
    "        L.append(d[(x,(y-1))])\n",
    "        L.append(d[(x+1),y])\n",
    "        L.append(d[x,(y+1)])\n",
    "        \n",
    "    #ligne de gauche\n",
    "    elif x !=0 and y == 0 : \n",
    "        L.append(d[(x-1),y])\n",
    "        L.append(d[(x+1),y])\n",
    "        L.append(d[x,(y+1)])\n",
    "        \n",
    "    #ligne du bas\n",
    "    elif x == (a-1) and y != 0 : \n",
    "        L.append(d[(x-1),y])\n",
    "        L.append(d[x,(y-1)])\n",
    "        L.append(d[x,(y+1)])\n",
    "    \n",
    "    #ligne de droite\n",
    "    elif x != 0 and y == (b-1) : \n",
    "        L.append(d[(x-1),y])\n",
    "        L.append(d[x,(y-1)])\n",
    "        L.append(d[(x+1),y])\n",
    "\n",
    "    #cas général\n",
    "    else :\n",
    "        L.append(d[x,(y-1)])\n",
    "        L.append(d[(x-1),y])\n",
    "        L.append(d[x,(y+1)])\n",
    "        L.append(d[(x+1),y])\n",
    "\n",
    "    g = choice(L)\n",
    "   \n",
    "    return g\n",
    "    "
   ]
  },
  {
   "cell_type": "code",
   "execution_count": 794,
   "metadata": {
    "collapsed": false
   },
   "outputs": [
    {
     "data": {
      "text/plain": [
       "array([[ 1.,  1.,  0.,  1.,  0.,  0.,  1.,  1.,  0.,  0.],\n",
       "       [ 1.,  3.,  0.,  0.,  0.,  0.,  1.,  1.,  1.,  0.],\n",
       "       [ 1.,  0.,  0.,  0.,  0.,  1.,  1.,  1.,  0.,  0.],\n",
       "       [ 1.,  3.,  0.,  1.,  1.,  1.,  0.,  0.,  3.,  2.],\n",
       "       [ 0.,  1.,  1.,  1.,  0.,  1.,  1.,  0.,  1.,  1.],\n",
       "       [ 0.,  1.,  0.,  1.,  0.,  1.,  3.,  1.,  0.,  1.],\n",
       "       [ 1.,  0.,  1.,  0.,  1.,  1.,  1.,  1.,  0.,  0.],\n",
       "       [ 3.,  2.,  0.,  1.,  3.,  1.,  0.,  1.,  1.,  0.],\n",
       "       [ 1.,  1.,  2.,  0.,  0.,  0.,  1.,  1.,  0.,  3.],\n",
       "       [ 0.,  0.,  1.,  1.,  3.,  1.,  2.,  1.,  1.,  0.]])"
      ]
     },
     "execution_count": 794,
     "metadata": {},
     "output_type": "execute_result"
    }
   ],
   "source": [
    "d"
   ]
  },
  {
   "cell_type": "code",
   "execution_count": 795,
   "metadata": {
    "collapsed": false
   },
   "outputs": [],
   "source": [
    "#premier passage des lions/meutes de lionnes sur les gazelles\n",
    "for k in range (0,a) : \n",
    "    for i in range (0,b) : \n",
    "        if d[k,i] == 1. and voisins(k,i) == 2. :\n",
    "            d[k,i] = 2. \n",
    "        if d[k,i] == 1. and voisins(k,i) == 3. : \n",
    "            d[k,i] = 3. \n",
    "          "
   ]
  },
  {
   "cell_type": "code",
   "execution_count": 796,
   "metadata": {
    "collapsed": false
   },
   "outputs": [
    {
     "data": {
      "text/plain": [
       "45"
      ]
     },
     "execution_count": 796,
     "metadata": {},
     "output_type": "execute_result"
    }
   ],
   "source": [
    "len(np.where(d == 1.)[0])"
   ]
  },
  {
   "cell_type": "code",
   "execution_count": 797,
   "metadata": {
    "collapsed": false
   },
   "outputs": [
    {
     "data": {
      "text/plain": [
       "11"
      ]
     },
     "execution_count": 797,
     "metadata": {},
     "output_type": "execute_result"
    }
   ],
   "source": [
    "c = len(np.where(d == 3.)[0])\n",
    "c"
   ]
  },
  {
   "cell_type": "code",
   "execution_count": 798,
   "metadata": {
    "collapsed": false
   },
   "outputs": [
    {
     "data": {
      "text/plain": [
       "100"
      ]
     },
     "execution_count": 798,
     "metadata": {},
     "output_type": "execute_result"
    }
   ],
   "source": [
    "n = d.size\n",
    "n"
   ]
  },
  {
   "cell_type": "code",
   "execution_count": null,
   "metadata": {
    "collapsed": false
   },
   "outputs": [],
   "source": [
    "#réguler le nombre de meutes de lionnes présents dans la matrice afin de stabiliser son nombre à 8%\n",
    "while c > 0.08*n : \n",
    "    for k in range (0,a) :\n",
    "        for i in range (0,b) :\n",
    "            if d[k,i] == 3 : \n",
    "                d[k,i] = 0\n",
    "            else :\n",
    "                d[k,i] = 3\n"
   ]
  },
  {
   "cell_type": "code",
   "execution_count": null,
   "metadata": {
    "collapsed": false
   },
   "outputs": [],
   "source": [
    "len(np.where(d == 3.)[0])"
   ]
  },
  {
   "cell_type": "code",
   "execution_count": 758,
   "metadata": {
    "collapsed": false
   },
   "outputs": [
    {
     "data": {
      "text/plain": [
       "array([[ 0.,  0.,  0.,  1.,  0.,  0.,  1.,  1.,  0.,  0.],\n",
       "       [ 0.,  0.,  0.,  0.,  0.,  0.,  1.,  1.,  1.,  0.],\n",
       "       [ 0.,  0.,  0.,  0.,  0.,  1.,  1.,  1.,  0.,  0.],\n",
       "       [ 0.,  0.,  0.,  1.,  1.,  0.,  0.,  0.,  0.,  2.],\n",
       "       [ 0.,  0.,  0.,  1.,  0.,  0.,  0.,  0.,  2.,  2.],\n",
       "       [ 0.,  0.,  0.,  1.,  0.,  0.,  0.,  0.,  0.,  2.],\n",
       "       [ 0.,  0.,  1.,  0.,  1.,  1.,  1.,  1.,  0.,  0.],\n",
       "       [ 0.,  2.,  0.,  0.,  0.,  0.,  0.,  1.,  1.,  0.],\n",
       "       [ 1.,  2.,  2.,  0.,  0.,  0.,  2.,  2.,  0.,  0.],\n",
       "       [ 0.,  0.,  0.,  0.,  0.,  0.,  2.,  2.,  2.,  0.]])"
      ]
     },
     "execution_count": 758,
     "metadata": {},
     "output_type": "execute_result"
    }
   ],
   "source": [
    "d"
   ]
  },
  {
   "cell_type": "code",
   "execution_count": 726,
   "metadata": {
    "collapsed": false
   },
   "outputs": [
    {
     "data": {
      "text/plain": [
       "10"
      ]
     },
     "execution_count": 726,
     "metadata": {},
     "output_type": "execute_result"
    }
   ],
   "source": [
    "a"
   ]
  },
  {
   "cell_type": "code",
   "execution_count": null,
   "metadata": {
    "collapsed": true
   },
   "outputs": [],
   "source": []
  },
  {
   "cell_type": "code",
   "execution_count": null,
   "metadata": {
    "collapsed": false
   },
   "outputs": [],
   "source": [
    "len(np.where(d == 3.)[0])"
   ]
  },
  {
   "cell_type": "code",
   "execution_count": null,
   "metadata": {
    "collapsed": true
   },
   "outputs": [],
   "source": [
    "#On s'interrese maintenant aux interractions entre les gazelles et les lions/meutes de lionnes\n",
    "#Pour l'instant on se met dans le cas ou dès lors qu'il y a rencontre entre gazelle et lion/meute de lionne, \n",
    "#la gazelle se fait attraper et elle fait donc place à une nouvelle case vide dont la valeur est 0"
   ]
  },
  {
   "cell_type": "code",
   "execution_count": null,
   "metadata": {
    "collapsed": true
   },
   "outputs": [],
   "source": []
  }
 ],
 "metadata": {
  "kernelspec": {
   "display_name": "Python 3",
   "language": "python",
   "name": "python3"
  },
  "language_info": {
   "codemirror_mode": {
    "name": "ipython",
    "version": 3
   },
   "file_extension": ".py",
   "mimetype": "text/x-python",
   "name": "python",
   "nbconvert_exporter": "python",
   "pygments_lexer": "ipython3",
   "version": "3.4.2"
  }
 },
 "nbformat": 4,
 "nbformat_minor": 0
}
