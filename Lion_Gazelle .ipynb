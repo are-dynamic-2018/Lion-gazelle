{
 "cells": [
  {
   "cell_type": "code",
   "execution_count": 179,
   "metadata": {
    "collapsed": true
   },
   "outputs": [],
   "source": [
    "import matplotlib"
   ]
  },
  {
   "cell_type": "code",
   "execution_count": 180,
   "metadata": {
    "collapsed": true
   },
   "outputs": [],
   "source": [
    "import numpy as np"
   ]
  },
  {
   "cell_type": "code",
   "execution_count": 181,
   "metadata": {
    "collapsed": false
   },
   "outputs": [
    {
     "data": {
      "text/plain": [
       "array([[1, 0, 0, 1, 1],\n",
       "       [0, 1, 3, 0, 1],\n",
       "       [0, 1, 0, 1, 2],\n",
       "       [1, 0, 1, 0, 1],\n",
       "       [0, 2, 0, 1, 1]])"
      ]
     },
     "execution_count": 181,
     "metadata": {},
     "output_type": "execute_result"
    }
   ],
   "source": [
    "#Dans la zone étudiée, on estime qu'il y a 4 fois plus de gazelles que de lions/lionnes\n",
    "#Ainsi sur une zone matrice de 25 \"cases\" on comptera 12 gazelles, 3 lions/lionnes et donc 10 cases vides\n",
    "#La gazelle prend comme valeur 1\n",
    "#La meute de lionne prend la valeur 2\n",
    "#Le lion prend la valeur 3\n",
    "np.array([[1,0,0,1,1],[0,1,3,0,1],[0,1,0,1,2],[1,0,1,0,1],[0,2,0,1,1]])"
   ]
  },
  {
   "cell_type": "code",
   "execution_count": 252,
   "metadata": {
    "collapsed": false
   },
   "outputs": [
    {
     "data": {
      "text/plain": [
       "array([[ 0.,  0.,  0.,  0.,  0.,  0.,  0.,  0.,  0.,  0.],\n",
       "       [ 0.,  0.,  0.,  0.,  0.,  0.,  0.,  0.,  0.,  0.],\n",
       "       [ 0.,  0.,  0.,  0.,  0.,  0.,  0.,  0.,  0.,  0.],\n",
       "       [ 0.,  0.,  0.,  0.,  0.,  0.,  0.,  0.,  0.,  0.],\n",
       "       [ 0.,  0.,  0.,  0.,  0.,  0.,  0.,  0.,  0.,  0.],\n",
       "       [ 0.,  0.,  0.,  0.,  0.,  0.,  0.,  0.,  0.,  0.],\n",
       "       [ 0.,  0.,  0.,  0.,  0.,  0.,  0.,  0.,  0.,  0.],\n",
       "       [ 0.,  0.,  0.,  0.,  0.,  0.,  0.,  0.,  0.,  0.],\n",
       "       [ 0.,  0.,  0.,  0.,  0.,  0.,  0.,  0.,  0.,  0.],\n",
       "       [ 0.,  0.,  0.,  0.,  0.,  0.,  0.,  0.,  0.,  0.]])"
      ]
     },
     "execution_count": 252,
     "metadata": {},
     "output_type": "execute_result"
    }
   ],
   "source": [
    "a=10\n",
    "b=10\n",
    "d = np.zeros((a,b))\n",
    "d"
   ]
  },
  {
   "cell_type": "code",
   "execution_count": 253,
   "metadata": {
    "collapsed": true
   },
   "outputs": [],
   "source": [
    "L=[]\n",
    "for k in range (0,a) : \n",
    "    for i in range (0,a) : \n",
    "        L.append([k,i])"
   ]
  },
  {
   "cell_type": "code",
   "execution_count": 254,
   "metadata": {
    "collapsed": false
   },
   "outputs": [
    {
     "data": {
      "text/plain": [
       "[[0, 0],\n",
       " [0, 1],\n",
       " [0, 2],\n",
       " [0, 3],\n",
       " [0, 4],\n",
       " [0, 5],\n",
       " [0, 6],\n",
       " [0, 7],\n",
       " [0, 8],\n",
       " [0, 9],\n",
       " [1, 0],\n",
       " [1, 1],\n",
       " [1, 2],\n",
       " [1, 3],\n",
       " [1, 4],\n",
       " [1, 5],\n",
       " [1, 6],\n",
       " [1, 7],\n",
       " [1, 8],\n",
       " [1, 9],\n",
       " [2, 0],\n",
       " [2, 1],\n",
       " [2, 2],\n",
       " [2, 3],\n",
       " [2, 4],\n",
       " [2, 5],\n",
       " [2, 6],\n",
       " [2, 7],\n",
       " [2, 8],\n",
       " [2, 9],\n",
       " [3, 0],\n",
       " [3, 1],\n",
       " [3, 2],\n",
       " [3, 3],\n",
       " [3, 4],\n",
       " [3, 5],\n",
       " [3, 6],\n",
       " [3, 7],\n",
       " [3, 8],\n",
       " [3, 9],\n",
       " [4, 0],\n",
       " [4, 1],\n",
       " [4, 2],\n",
       " [4, 3],\n",
       " [4, 4],\n",
       " [4, 5],\n",
       " [4, 6],\n",
       " [4, 7],\n",
       " [4, 8],\n",
       " [4, 9],\n",
       " [5, 0],\n",
       " [5, 1],\n",
       " [5, 2],\n",
       " [5, 3],\n",
       " [5, 4],\n",
       " [5, 5],\n",
       " [5, 6],\n",
       " [5, 7],\n",
       " [5, 8],\n",
       " [5, 9],\n",
       " [6, 0],\n",
       " [6, 1],\n",
       " [6, 2],\n",
       " [6, 3],\n",
       " [6, 4],\n",
       " [6, 5],\n",
       " [6, 6],\n",
       " [6, 7],\n",
       " [6, 8],\n",
       " [6, 9],\n",
       " [7, 0],\n",
       " [7, 1],\n",
       " [7, 2],\n",
       " [7, 3],\n",
       " [7, 4],\n",
       " [7, 5],\n",
       " [7, 6],\n",
       " [7, 7],\n",
       " [7, 8],\n",
       " [7, 9],\n",
       " [8, 0],\n",
       " [8, 1],\n",
       " [8, 2],\n",
       " [8, 3],\n",
       " [8, 4],\n",
       " [8, 5],\n",
       " [8, 6],\n",
       " [8, 7],\n",
       " [8, 8],\n",
       " [8, 9],\n",
       " [9, 0],\n",
       " [9, 1],\n",
       " [9, 2],\n",
       " [9, 3],\n",
       " [9, 4],\n",
       " [9, 5],\n",
       " [9, 6],\n",
       " [9, 7],\n",
       " [9, 8],\n",
       " [9, 9]]"
      ]
     },
     "execution_count": 254,
     "metadata": {},
     "output_type": "execute_result"
    }
   ],
   "source": [
    "L"
   ]
  },
  {
   "cell_type": "code",
   "execution_count": 255,
   "metadata": {
    "collapsed": false
   },
   "outputs": [],
   "source": [
    "indices = np.random.choice(np.arange(len(L)), a*b, replace=False)"
   ]
  },
  {
   "cell_type": "code",
   "execution_count": 256,
   "metadata": {
    "collapsed": false
   },
   "outputs": [],
   "source": [
    "positions = np.array(L)[indices]"
   ]
  },
  {
   "cell_type": "code",
   "execution_count": 257,
   "metadata": {
    "collapsed": false
   },
   "outputs": [
    {
     "data": {
      "text/plain": [
       "array([[0, 6],\n",
       "       [2, 6],\n",
       "       [5, 7],\n",
       "       [9, 9],\n",
       "       [3, 4],\n",
       "       [4, 8],\n",
       "       [0, 2],\n",
       "       [9, 5],\n",
       "       [2, 1],\n",
       "       [2, 0],\n",
       "       [5, 9],\n",
       "       [1, 3],\n",
       "       [4, 4],\n",
       "       [1, 4],\n",
       "       [3, 9],\n",
       "       [9, 6],\n",
       "       [0, 1],\n",
       "       [4, 2],\n",
       "       [3, 7],\n",
       "       [8, 9],\n",
       "       [9, 8],\n",
       "       [3, 8],\n",
       "       [6, 2],\n",
       "       [1, 8],\n",
       "       [3, 0],\n",
       "       [7, 9],\n",
       "       [7, 8],\n",
       "       [7, 1],\n",
       "       [3, 1],\n",
       "       [5, 0],\n",
       "       [3, 6],\n",
       "       [5, 2],\n",
       "       [8, 3],\n",
       "       [7, 0],\n",
       "       [0, 5],\n",
       "       [4, 9],\n",
       "       [7, 3],\n",
       "       [9, 1],\n",
       "       [1, 7],\n",
       "       [9, 2],\n",
       "       [3, 5],\n",
       "       [9, 4],\n",
       "       [4, 0],\n",
       "       [0, 9],\n",
       "       [1, 9],\n",
       "       [5, 8],\n",
       "       [6, 3],\n",
       "       [6, 5],\n",
       "       [8, 4],\n",
       "       [6, 8],\n",
       "       [8, 1],\n",
       "       [3, 3],\n",
       "       [2, 2],\n",
       "       [6, 6],\n",
       "       [5, 4],\n",
       "       [5, 1],\n",
       "       [9, 0],\n",
       "       [1, 1],\n",
       "       [2, 7],\n",
       "       [8, 7],\n",
       "       [0, 4],\n",
       "       [1, 5],\n",
       "       [4, 3],\n",
       "       [0, 8],\n",
       "       [6, 9],\n",
       "       [1, 6],\n",
       "       [1, 0],\n",
       "       [0, 7],\n",
       "       [7, 6],\n",
       "       [6, 1],\n",
       "       [4, 6],\n",
       "       [4, 1],\n",
       "       [0, 3],\n",
       "       [6, 0],\n",
       "       [9, 7],\n",
       "       [9, 3],\n",
       "       [4, 7],\n",
       "       [1, 2],\n",
       "       [5, 6],\n",
       "       [7, 5],\n",
       "       [4, 5],\n",
       "       [8, 6],\n",
       "       [6, 7],\n",
       "       [7, 7],\n",
       "       [2, 5],\n",
       "       [2, 9],\n",
       "       [2, 8],\n",
       "       [8, 2],\n",
       "       [5, 5],\n",
       "       [8, 0],\n",
       "       [0, 0],\n",
       "       [2, 4],\n",
       "       [7, 4],\n",
       "       [7, 2],\n",
       "       [8, 8],\n",
       "       [6, 4],\n",
       "       [5, 3],\n",
       "       [8, 5],\n",
       "       [3, 2],\n",
       "       [2, 3]])"
      ]
     },
     "execution_count": 257,
     "metadata": {},
     "output_type": "execute_result"
    }
   ],
   "source": [
    "positions"
   ]
  },
  {
   "cell_type": "code",
   "execution_count": 258,
   "metadata": {
    "collapsed": false
   },
   "outputs": [],
   "source": [
    "def add_gazelle(d, positions):\n",
    "    n = len(positions)\n",
    "    c=0\n",
    "    for k in range (0,n) :\n",
    "        position = positions[k]\n",
    "        value = d[position[0],position[1]]\n",
    "        if value==1 : \n",
    "            c=c+1\n",
    "    q=0\n",
    "    while c<0.48*n :\n",
    "        position = positions[q]\n",
    "        value = d[position[0],position[1]]\n",
    "        if value==1 : \n",
    "            q=q+1\n",
    "        else : \n",
    "            d[position[0],position[1]] = 1\n",
    "            c = c+1\n",
    "            q=q+1\n",
    "        return \n",
    "    "
   ]
  },
  {
   "cell_type": "code",
   "execution_count": 259,
   "metadata": {
    "collapsed": false
   },
   "outputs": [],
   "source": [
    "n = len(positions)\n",
    "c=0\n",
    "for k in range (0,n) :\n",
    "    position = positions[k]\n",
    "    value = d[position[0],position[1]]\n",
    "    if value==1 : \n",
    "        c=c+1\n",
    "q=0\n",
    "while c<0.48*n :\n",
    "    position = positions[q]\n",
    "    value = d[position[0],position[1]]\n",
    "    if value==1 : \n",
    "        q=q+1\n",
    "    else : \n",
    "        d[position[0],position[1]] = 1\n",
    "        c = c+1\n",
    "        q=q+1"
   ]
  },
  {
   "cell_type": "code",
   "execution_count": 260,
   "metadata": {
    "collapsed": false
   },
   "outputs": [
    {
     "data": {
      "text/plain": [
       "array([[ 0.,  1.,  1.,  0.,  0.,  1.,  1.,  0.,  0.,  1.],\n",
       "       [ 0.,  0.,  0.,  1.,  1.,  0.,  0.,  1.,  1.,  1.],\n",
       "       [ 1.,  1.,  0.,  0.,  0.,  0.,  1.,  0.,  0.,  0.],\n",
       "       [ 1.,  1.,  0.,  0.,  1.,  1.,  1.,  1.,  1.,  1.],\n",
       "       [ 1.,  0.,  1.,  0.,  1.,  0.,  0.,  0.,  1.,  1.],\n",
       "       [ 1.,  0.,  1.,  0.,  0.,  0.,  0.,  1.,  1.,  1.],\n",
       "       [ 0.,  0.,  1.,  1.,  0.,  1.,  0.,  0.,  0.,  0.],\n",
       "       [ 1.,  1.,  0.,  1.,  0.,  0.,  0.,  0.,  1.,  1.],\n",
       "       [ 0.,  0.,  0.,  1.,  0.,  0.,  0.,  0.,  0.,  1.],\n",
       "       [ 0.,  1.,  1.,  0.,  1.,  1.,  1.,  0.,  1.,  1.]])"
      ]
     },
     "execution_count": 260,
     "metadata": {},
     "output_type": "execute_result"
    }
   ],
   "source": [
    "d"
   ]
  },
  {
   "cell_type": "code",
   "execution_count": 261,
   "metadata": {
    "collapsed": true
   },
   "outputs": [],
   "source": [
    "# add_lion(d, positions_bis)"
   ]
  },
  {
   "cell_type": "code",
   "execution_count": 262,
   "metadata": {
    "collapsed": false
   },
   "outputs": [],
   "source": [
    "#lions\n",
    "n = len(positions)\n",
    "x=0\n",
    "for k in range (0,n) :\n",
    "    position = positions[k]\n",
    "    value = d[position[0],position[1]]\n",
    "    if value==2 : \n",
    "        x=x+1\n",
    "q=0\n",
    "while x<0.04*n :\n",
    "    position = positions[q]\n",
    "    value = d[position[0],position[1]]\n",
    "    if value==2 : \n",
    "        q=q+1\n",
    "    if value == 1 :\n",
    "        q=q+1\n",
    "    else : \n",
    "        d[position[0],position[1]] = 2\n",
    "        x = x+1\n",
    "        q=q+1"
   ]
  },
  {
   "cell_type": "code",
   "execution_count": 263,
   "metadata": {
    "collapsed": false
   },
   "outputs": [
    {
     "data": {
      "text/plain": [
       "array([[ 0.,  1.,  1.,  0.,  0.,  1.,  1.,  0.,  0.,  1.],\n",
       "       [ 0.,  0.,  0.,  1.,  1.,  0.,  0.,  1.,  1.,  1.],\n",
       "       [ 1.,  1.,  0.,  0.,  0.,  0.,  1.,  0.,  0.,  0.],\n",
       "       [ 1.,  1.,  0.,  2.,  1.,  1.,  1.,  1.,  1.,  1.],\n",
       "       [ 1.,  0.,  1.,  0.,  1.,  0.,  0.,  0.,  1.,  1.],\n",
       "       [ 1.,  0.,  1.,  0.,  0.,  0.,  0.,  1.,  1.,  1.],\n",
       "       [ 0.,  0.,  1.,  1.,  0.,  1.,  0.,  0.,  2.,  0.],\n",
       "       [ 1.,  1.,  0.,  1.,  0.,  0.,  0.,  0.,  1.,  1.],\n",
       "       [ 0.,  2.,  0.,  1.,  2.,  0.,  0.,  0.,  0.,  1.],\n",
       "       [ 0.,  1.,  1.,  0.,  1.,  1.,  1.,  0.,  1.,  1.]])"
      ]
     },
     "execution_count": 263,
     "metadata": {},
     "output_type": "execute_result"
    }
   ],
   "source": [
    "d"
   ]
  },
  {
   "cell_type": "code",
   "execution_count": 264,
   "metadata": {
    "collapsed": false
   },
   "outputs": [],
   "source": [
    "n = len(positions)\n",
    "y=0\n",
    "for k in range (0,n) :\n",
    "    position = positions[k]\n",
    "    value = d[position[0],position[1]]\n",
    "    if value==3 : \n",
    "        y=y+1\n",
    "q=0\n",
    "while y<0.08*n :\n",
    "    position = positions[q]\n",
    "    value = d[position[0],position[1]]\n",
    "    if value == 3 : \n",
    "        q=q+1\n",
    "    if value == 1 :\n",
    "        q=q+1\n",
    "    if value == 2 :\n",
    "        q=q+1\n",
    "    else : \n",
    "        d[position[0],position[1]] = 3\n",
    "        y = y+1\n",
    "        q=q+1"
   ]
  },
  {
   "cell_type": "code",
   "execution_count": 265,
   "metadata": {
    "collapsed": false
   },
   "outputs": [
    {
     "data": {
      "text/plain": [
       "array([[ 0.,  1.,  3.,  0.,  0.,  1.,  3.,  0.,  0.,  1.],\n",
       "       [ 0.,  0.,  0.,  1.,  1.,  0.,  0.,  1.,  1.,  1.],\n",
       "       [ 1.,  3.,  0.,  0.,  0.,  0.,  1.,  0.,  0.,  0.],\n",
       "       [ 1.,  1.,  0.,  2.,  3.,  1.,  1.,  1.,  1.,  3.],\n",
       "       [ 1.,  0.,  1.,  0.,  3.,  0.,  0.,  0.,  1.,  1.],\n",
       "       [ 1.,  0.,  1.,  0.,  0.,  0.,  0.,  3.,  1.,  3.],\n",
       "       [ 0.,  0.,  1.,  1.,  0.,  1.,  0.,  0.,  2.,  0.],\n",
       "       [ 1.,  1.,  0.,  1.,  0.,  0.,  0.,  0.,  1.,  1.],\n",
       "       [ 0.,  2.,  0.,  1.,  2.,  0.,  0.,  0.,  0.,  1.],\n",
       "       [ 0.,  1.,  1.,  0.,  1.,  1.,  1.,  0.,  1.,  1.]])"
      ]
     },
     "execution_count": 265,
     "metadata": {},
     "output_type": "execute_result"
    }
   ],
   "source": [
    "d"
   ]
  },
  {
   "cell_type": "code",
   "execution_count": null,
   "metadata": {
    "collapsed": true
   },
   "outputs": [],
   "source": []
  }
 ],
 "metadata": {
  "kernelspec": {
   "display_name": "Python 3",
   "language": "python",
   "name": "python3"
  },
  "language_info": {
   "codemirror_mode": {
    "name": "ipython",
    "version": 3
   },
   "file_extension": ".py",
   "mimetype": "text/x-python",
   "name": "python",
   "nbconvert_exporter": "python",
   "pygments_lexer": "ipython3",
   "version": "3.4.2"
  }
 },
 "nbformat": 4,
 "nbformat_minor": 0
}
